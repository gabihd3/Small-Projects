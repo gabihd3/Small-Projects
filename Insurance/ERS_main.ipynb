{
 "cells": [
  {
   "cell_type": "code",
   "execution_count": 58,
   "metadata": {},
   "outputs": [],
   "source": [
    "import os \n",
    "path = ('/Users/gabriel/Documents/data')\n",
    "os.chdir(path)"
   ]
  },
  {
   "cell_type": "code",
   "execution_count": 59,
   "metadata": {},
   "outputs": [
    {
     "data": {
      "text/plain": [
       "'/Users/gabriel/Documents/data'"
      ]
     },
     "execution_count": 59,
     "metadata": {},
     "output_type": "execute_result"
    }
   ],
   "source": [
    "pwd"
   ]
  },
  {
   "cell_type": "markdown",
   "metadata": {},
   "source": [
    "# Libraries"
   ]
  },
  {
   "cell_type": "code",
   "execution_count": 60,
   "metadata": {},
   "outputs": [
    {
     "name": "stdout",
     "output_type": "stream",
     "text": [
      "Pandas version: 0.23.4\n",
      "Numpy version: 1.15.4\n",
      "Seaborn version: 0.9.0\n"
     ]
    }
   ],
   "source": [
    "import pandas as pd\n",
    "import numpy as np\n",
    "import matplotlib.pyplot as plt\n",
    "import seaborn as sns\n",
    "import statsmodels.api as sm\n",
    "sns.set()\n",
    "print('Pandas version: {}'.format(pd.__version__))\n",
    "print('Numpy version: {}'.format( np.__version__))\n",
    "#print('Matplotlib version: {}'.format(matplotlib.__version__))\n",
    "print('Seaborn version: {}'.format(sns.__version__))"
   ]
  },
  {
   "cell_type": "markdown",
   "metadata": {},
   "source": [
    "# Basic Info"
   ]
  },
  {
   "cell_type": "code",
   "execution_count": 61,
   "metadata": {},
   "outputs": [
    {
     "data": {
      "text/html": [
       "<div>\n",
       "<style scoped>\n",
       "    .dataframe tbody tr th:only-of-type {\n",
       "        vertical-align: middle;\n",
       "    }\n",
       "\n",
       "    .dataframe tbody tr th {\n",
       "        vertical-align: top;\n",
       "    }\n",
       "\n",
       "    .dataframe thead th {\n",
       "        text-align: right;\n",
       "    }\n",
       "</style>\n",
       "<table border=\"1\" class=\"dataframe\">\n",
       "  <thead>\n",
       "    <tr style=\"text-align: right;\">\n",
       "      <th></th>\n",
       "      <th>QUOTEUUID</th>\n",
       "      <th>QUOTEDATE</th>\n",
       "      <th>PG1</th>\n",
       "      <th>PE1</th>\n",
       "      <th>PL1</th>\n",
       "      <th>PM1</th>\n",
       "      <th>PN1</th>\n",
       "      <th>PO1</th>\n",
       "      <th>APC</th>\n",
       "      <th>C1</th>\n",
       "      <th>...</th>\n",
       "      <th>V2</th>\n",
       "      <th>V3</th>\n",
       "      <th>V4</th>\n",
       "      <th>V5</th>\n",
       "      <th>V6</th>\n",
       "      <th>V7</th>\n",
       "      <th>V8</th>\n",
       "      <th>V9</th>\n",
       "      <th>TP</th>\n",
       "      <th>GWP</th>\n",
       "    </tr>\n",
       "  </thead>\n",
       "  <tbody>\n",
       "    <tr>\n",
       "      <th>0</th>\n",
       "      <td>6e042b6c-55cc-492e-b4ca-1e521d899b88</td>\n",
       "      <td>2020-10-01</td>\n",
       "      <td>54</td>\n",
       "      <td>2.0</td>\n",
       "      <td>1.0</td>\n",
       "      <td>M</td>\n",
       "      <td>6</td>\n",
       "      <td>9.0</td>\n",
       "      <td>ST29JJ</td>\n",
       "      <td>Comprehensive</td>\n",
       "      <td>...</td>\n",
       "      <td>10.0</td>\n",
       "      <td>10.0</td>\n",
       "      <td>6345.0</td>\n",
       "      <td>250.0</td>\n",
       "      <td>0</td>\n",
       "      <td>4000.0</td>\n",
       "      <td>At Home</td>\n",
       "      <td>610</td>\n",
       "      <td>39.49</td>\n",
       "      <td>382.0</td>\n",
       "    </tr>\n",
       "    <tr>\n",
       "      <th>1</th>\n",
       "      <td>6da8f9fd-0bee-45b8-9ab4-e6d49a577c68</td>\n",
       "      <td>2020-10-01</td>\n",
       "      <td>28</td>\n",
       "      <td>0.0</td>\n",
       "      <td>1.0</td>\n",
       "      <td>S</td>\n",
       "      <td>5</td>\n",
       "      <td>9.0</td>\n",
       "      <td>WF134HT</td>\n",
       "      <td>Comprehensive</td>\n",
       "      <td>...</td>\n",
       "      <td>10.0</td>\n",
       "      <td>5.0</td>\n",
       "      <td>4000.0</td>\n",
       "      <td>500.0</td>\n",
       "      <td>0</td>\n",
       "      <td>8000.0</td>\n",
       "      <td>At Home</td>\n",
       "      <td>229</td>\n",
       "      <td>229.33</td>\n",
       "      <td>1176.0</td>\n",
       "    </tr>\n",
       "  </tbody>\n",
       "</table>\n",
       "<p>2 rows × 32 columns</p>\n",
       "</div>"
      ],
      "text/plain": [
       "                              QUOTEUUID   QUOTEDATE  PG1  PE1  PL1 PM1  PN1  \\\n",
       "0  6e042b6c-55cc-492e-b4ca-1e521d899b88  2020-10-01   54  2.0  1.0   M    6   \n",
       "1  6da8f9fd-0bee-45b8-9ab4-e6d49a577c68  2020-10-01   28  0.0  1.0   S    5   \n",
       "\n",
       "   PO1      APC             C1   ...      V2    V3      V4     V5  V6      V7  \\\n",
       "0  9.0   ST29JJ  Comprehensive   ...    10.0  10.0  6345.0  250.0   0  4000.0   \n",
       "1  9.0  WF134HT  Comprehensive   ...    10.0   5.0  4000.0  500.0   0  8000.0   \n",
       "\n",
       "        V8   V9      TP     GWP  \n",
       "0  At Home  610   39.49   382.0  \n",
       "1  At Home  229  229.33  1176.0  \n",
       "\n",
       "[2 rows x 32 columns]"
      ]
     },
     "execution_count": 61,
     "metadata": {},
     "output_type": "execute_result"
    }
   ],
   "source": [
    "raw_main = pd.read_csv('main_v1.csv')\n",
    "main_df = raw_main.copy()\n",
    "main_df.head(2)"
   ]
  },
  {
   "cell_type": "code",
   "execution_count": 62,
   "metadata": {},
   "outputs": [
    {
     "name": "stdout",
     "output_type": "stream",
     "text": [
      "Dataset rows and columns: (647206, 32)\n",
      "Targets rows and columns: (647206,)\n"
     ]
    }
   ],
   "source": [
    "print('Dataset rows and columns:', main_df.shape)\n",
    "print('Targets rows and columns:',main_df['GWP'].shape)"
   ]
  },
  {
   "cell_type": "code",
   "execution_count": 63,
   "metadata": {
    "scrolled": true
   },
   "outputs": [
    {
     "data": {
      "text/html": [
       "<div>\n",
       "<style scoped>\n",
       "    .dataframe tbody tr th:only-of-type {\n",
       "        vertical-align: middle;\n",
       "    }\n",
       "\n",
       "    .dataframe tbody tr th {\n",
       "        vertical-align: top;\n",
       "    }\n",
       "\n",
       "    .dataframe thead th {\n",
       "        text-align: right;\n",
       "    }\n",
       "</style>\n",
       "<table border=\"1\" class=\"dataframe\">\n",
       "  <thead>\n",
       "    <tr style=\"text-align: right;\">\n",
       "      <th></th>\n",
       "      <th>QUOTEUUID</th>\n",
       "      <th>QUOTEDATE</th>\n",
       "      <th>PG1</th>\n",
       "      <th>PE1</th>\n",
       "      <th>PL1</th>\n",
       "      <th>PM1</th>\n",
       "      <th>PN1</th>\n",
       "      <th>PO1</th>\n",
       "      <th>APC</th>\n",
       "      <th>C1</th>\n",
       "      <th>...</th>\n",
       "      <th>V2</th>\n",
       "      <th>V3</th>\n",
       "      <th>V4</th>\n",
       "      <th>V5</th>\n",
       "      <th>V6</th>\n",
       "      <th>V7</th>\n",
       "      <th>V8</th>\n",
       "      <th>V9</th>\n",
       "      <th>TP</th>\n",
       "      <th>GWP</th>\n",
       "    </tr>\n",
       "  </thead>\n",
       "  <tbody>\n",
       "    <tr>\n",
       "      <th>count</th>\n",
       "      <td>647206</td>\n",
       "      <td>647206</td>\n",
       "      <td>647206.0</td>\n",
       "      <td>647206.0</td>\n",
       "      <td>647181.0</td>\n",
       "      <td>647206</td>\n",
       "      <td>647206.0</td>\n",
       "      <td>642334.0</td>\n",
       "      <td>647206</td>\n",
       "      <td>647206</td>\n",
       "      <td>...</td>\n",
       "      <td>544188.0</td>\n",
       "      <td>606803.0</td>\n",
       "      <td>647206.0</td>\n",
       "      <td>647206.0</td>\n",
       "      <td>647206.0</td>\n",
       "      <td>626594.0</td>\n",
       "      <td>647206</td>\n",
       "      <td>647206.0</td>\n",
       "      <td>599089.0</td>\n",
       "      <td>647206.0</td>\n",
       "    </tr>\n",
       "    <tr>\n",
       "      <th>unique</th>\n",
       "      <td>647206</td>\n",
       "      <td>7</td>\n",
       "      <td>NaN</td>\n",
       "      <td>NaN</td>\n",
       "      <td>NaN</td>\n",
       "      <td>10</td>\n",
       "      <td>NaN</td>\n",
       "      <td>NaN</td>\n",
       "      <td>281469</td>\n",
       "      <td>3</td>\n",
       "      <td>...</td>\n",
       "      <td>NaN</td>\n",
       "      <td>NaN</td>\n",
       "      <td>NaN</td>\n",
       "      <td>NaN</td>\n",
       "      <td>NaN</td>\n",
       "      <td>NaN</td>\n",
       "      <td>4</td>\n",
       "      <td>NaN</td>\n",
       "      <td>NaN</td>\n",
       "      <td>NaN</td>\n",
       "    </tr>\n",
       "    <tr>\n",
       "      <th>top</th>\n",
       "      <td>011ac1cd-2f63-4d9b-95d4-70d0bff7dbda</td>\n",
       "      <td>2020-10-05</td>\n",
       "      <td>NaN</td>\n",
       "      <td>NaN</td>\n",
       "      <td>NaN</td>\n",
       "      <td>M</td>\n",
       "      <td>NaN</td>\n",
       "      <td>NaN</td>\n",
       "      <td>PE26YS</td>\n",
       "      <td>Comprehensive</td>\n",
       "      <td>...</td>\n",
       "      <td>NaN</td>\n",
       "      <td>NaN</td>\n",
       "      <td>NaN</td>\n",
       "      <td>NaN</td>\n",
       "      <td>NaN</td>\n",
       "      <td>NaN</td>\n",
       "      <td>At Home</td>\n",
       "      <td>NaN</td>\n",
       "      <td>NaN</td>\n",
       "      <td>NaN</td>\n",
       "    </tr>\n",
       "    <tr>\n",
       "      <th>freq</th>\n",
       "      <td>1</td>\n",
       "      <td>104000</td>\n",
       "      <td>NaN</td>\n",
       "      <td>NaN</td>\n",
       "      <td>NaN</td>\n",
       "      <td>312907</td>\n",
       "      <td>NaN</td>\n",
       "      <td>NaN</td>\n",
       "      <td>1960</td>\n",
       "      <td>646356</td>\n",
       "      <td>...</td>\n",
       "      <td>NaN</td>\n",
       "      <td>NaN</td>\n",
       "      <td>NaN</td>\n",
       "      <td>NaN</td>\n",
       "      <td>NaN</td>\n",
       "      <td>NaN</td>\n",
       "      <td>582516</td>\n",
       "      <td>NaN</td>\n",
       "      <td>NaN</td>\n",
       "      <td>NaN</td>\n",
       "    </tr>\n",
       "    <tr>\n",
       "      <th>mean</th>\n",
       "      <td>NaN</td>\n",
       "      <td>NaN</td>\n",
       "      <td>47.2</td>\n",
       "      <td>1.5</td>\n",
       "      <td>1.0</td>\n",
       "      <td>NaN</td>\n",
       "      <td>7.3</td>\n",
       "      <td>8.9</td>\n",
       "      <td>NaN</td>\n",
       "      <td>NaN</td>\n",
       "      <td>...</td>\n",
       "      <td>9.8</td>\n",
       "      <td>7.6</td>\n",
       "      <td>9020.4</td>\n",
       "      <td>225.7</td>\n",
       "      <td>0.0</td>\n",
       "      <td>8613.7</td>\n",
       "      <td>NaN</td>\n",
       "      <td>887.6</td>\n",
       "      <td>113.0</td>\n",
       "      <td>963.7</td>\n",
       "    </tr>\n",
       "    <tr>\n",
       "      <th>std</th>\n",
       "      <td>NaN</td>\n",
       "      <td>NaN</td>\n",
       "      <td>15.6</td>\n",
       "      <td>1.0</td>\n",
       "      <td>0.0</td>\n",
       "      <td>NaN</td>\n",
       "      <td>4.1</td>\n",
       "      <td>0.8</td>\n",
       "      <td>NaN</td>\n",
       "      <td>NaN</td>\n",
       "      <td>...</td>\n",
       "      <td>0.9</td>\n",
       "      <td>13.6</td>\n",
       "      <td>6991.3</td>\n",
       "      <td>156.7</td>\n",
       "      <td>0.0</td>\n",
       "      <td>8266.3</td>\n",
       "      <td>NaN</td>\n",
       "      <td>900.5</td>\n",
       "      <td>123.9</td>\n",
       "      <td>892.0</td>\n",
       "    </tr>\n",
       "    <tr>\n",
       "      <th>min</th>\n",
       "      <td>NaN</td>\n",
       "      <td>NaN</td>\n",
       "      <td>19.0</td>\n",
       "      <td>0.0</td>\n",
       "      <td>0.0</td>\n",
       "      <td>NaN</td>\n",
       "      <td>0.0</td>\n",
       "      <td>0.0</td>\n",
       "      <td>NaN</td>\n",
       "      <td>NaN</td>\n",
       "      <td>...</td>\n",
       "      <td>2.0</td>\n",
       "      <td>0.0</td>\n",
       "      <td>0.0</td>\n",
       "      <td>0.0</td>\n",
       "      <td>0.0</td>\n",
       "      <td>0.0</td>\n",
       "      <td>NaN</td>\n",
       "      <td>-2515.0</td>\n",
       "      <td>0.0</td>\n",
       "      <td>67.0</td>\n",
       "    </tr>\n",
       "    <tr>\n",
       "      <th>25%</th>\n",
       "      <td>NaN</td>\n",
       "      <td>NaN</td>\n",
       "      <td>34.0</td>\n",
       "      <td>1.0</td>\n",
       "      <td>1.0</td>\n",
       "      <td>NaN</td>\n",
       "      <td>4.0</td>\n",
       "      <td>9.0</td>\n",
       "      <td>NaN</td>\n",
       "      <td>NaN</td>\n",
       "      <td>...</td>\n",
       "      <td>10.0</td>\n",
       "      <td>3.0</td>\n",
       "      <td>4180.0</td>\n",
       "      <td>100.0</td>\n",
       "      <td>0.0</td>\n",
       "      <td>5000.0</td>\n",
       "      <td>NaN</td>\n",
       "      <td>122.0</td>\n",
       "      <td>41.3</td>\n",
       "      <td>438.0</td>\n",
       "    </tr>\n",
       "    <tr>\n",
       "      <th>50%</th>\n",
       "      <td>NaN</td>\n",
       "      <td>NaN</td>\n",
       "      <td>45.0</td>\n",
       "      <td>2.0</td>\n",
       "      <td>1.0</td>\n",
       "      <td>NaN</td>\n",
       "      <td>9.0</td>\n",
       "      <td>9.0</td>\n",
       "      <td>NaN</td>\n",
       "      <td>NaN</td>\n",
       "      <td>...</td>\n",
       "      <td>10.0</td>\n",
       "      <td>6.0</td>\n",
       "      <td>7095.0</td>\n",
       "      <td>250.0</td>\n",
       "      <td>0.0</td>\n",
       "      <td>8000.0</td>\n",
       "      <td>NaN</td>\n",
       "      <td>731.0</td>\n",
       "      <td>72.8</td>\n",
       "      <td>688.0</td>\n",
       "    </tr>\n",
       "    <tr>\n",
       "      <th>75%</th>\n",
       "      <td>NaN</td>\n",
       "      <td>NaN</td>\n",
       "      <td>59.0</td>\n",
       "      <td>2.0</td>\n",
       "      <td>1.0</td>\n",
       "      <td>NaN</td>\n",
       "      <td>9.0</td>\n",
       "      <td>9.0</td>\n",
       "      <td>NaN</td>\n",
       "      <td>NaN</td>\n",
       "      <td>...</td>\n",
       "      <td>10.0</td>\n",
       "      <td>8.0</td>\n",
       "      <td>11945.0</td>\n",
       "      <td>250.0</td>\n",
       "      <td>0.0</td>\n",
       "      <td>10000.0</td>\n",
       "      <td>NaN</td>\n",
       "      <td>1307.0</td>\n",
       "      <td>136.3</td>\n",
       "      <td>1154.0</td>\n",
       "    </tr>\n",
       "    <tr>\n",
       "      <th>max</th>\n",
       "      <td>NaN</td>\n",
       "      <td>NaN</td>\n",
       "      <td>94.0</td>\n",
       "      <td>6.0</td>\n",
       "      <td>1.0</td>\n",
       "      <td>NaN</td>\n",
       "      <td>71.0</td>\n",
       "      <td>9.0</td>\n",
       "      <td>NaN</td>\n",
       "      <td>NaN</td>\n",
       "      <td>...</td>\n",
       "      <td>11.0</td>\n",
       "      <td>120.0</td>\n",
       "      <td>222000.0</td>\n",
       "      <td>5250.0</td>\n",
       "      <td>1.0</td>\n",
       "      <td>362000.0</td>\n",
       "      <td>NaN</td>\n",
       "      <td>18202.0</td>\n",
       "      <td>3372.8</td>\n",
       "      <td>24225.0</td>\n",
       "    </tr>\n",
       "  </tbody>\n",
       "</table>\n",
       "<p>11 rows × 32 columns</p>\n",
       "</div>"
      ],
      "text/plain": [
       "                                   QUOTEUUID   QUOTEDATE       PG1       PE1  \\\n",
       "count                                 647206      647206  647206.0  647206.0   \n",
       "unique                                647206           7       NaN       NaN   \n",
       "top     011ac1cd-2f63-4d9b-95d4-70d0bff7dbda  2020-10-05       NaN       NaN   \n",
       "freq                                       1      104000       NaN       NaN   \n",
       "mean                                     NaN         NaN      47.2       1.5   \n",
       "std                                      NaN         NaN      15.6       1.0   \n",
       "min                                      NaN         NaN      19.0       0.0   \n",
       "25%                                      NaN         NaN      34.0       1.0   \n",
       "50%                                      NaN         NaN      45.0       2.0   \n",
       "75%                                      NaN         NaN      59.0       2.0   \n",
       "max                                      NaN         NaN      94.0       6.0   \n",
       "\n",
       "             PL1     PM1       PN1       PO1     APC             C1    ...     \\\n",
       "count   647181.0  647206  647206.0  642334.0  647206         647206    ...      \n",
       "unique       NaN      10       NaN       NaN  281469              3    ...      \n",
       "top          NaN       M       NaN       NaN  PE26YS  Comprehensive    ...      \n",
       "freq         NaN  312907       NaN       NaN    1960         646356    ...      \n",
       "mean         1.0     NaN       7.3       8.9     NaN            NaN    ...      \n",
       "std          0.0     NaN       4.1       0.8     NaN            NaN    ...      \n",
       "min          0.0     NaN       0.0       0.0     NaN            NaN    ...      \n",
       "25%          1.0     NaN       4.0       9.0     NaN            NaN    ...      \n",
       "50%          1.0     NaN       9.0       9.0     NaN            NaN    ...      \n",
       "75%          1.0     NaN       9.0       9.0     NaN            NaN    ...      \n",
       "max          1.0     NaN      71.0       9.0     NaN            NaN    ...      \n",
       "\n",
       "              V2        V3        V4        V5        V6        V7       V8  \\\n",
       "count   544188.0  606803.0  647206.0  647206.0  647206.0  626594.0   647206   \n",
       "unique       NaN       NaN       NaN       NaN       NaN       NaN        4   \n",
       "top          NaN       NaN       NaN       NaN       NaN       NaN  At Home   \n",
       "freq         NaN       NaN       NaN       NaN       NaN       NaN   582516   \n",
       "mean         9.8       7.6    9020.4     225.7       0.0    8613.7      NaN   \n",
       "std          0.9      13.6    6991.3     156.7       0.0    8266.3      NaN   \n",
       "min          2.0       0.0       0.0       0.0       0.0       0.0      NaN   \n",
       "25%         10.0       3.0    4180.0     100.0       0.0    5000.0      NaN   \n",
       "50%         10.0       6.0    7095.0     250.0       0.0    8000.0      NaN   \n",
       "75%         10.0       8.0   11945.0     250.0       0.0   10000.0      NaN   \n",
       "max         11.0     120.0  222000.0    5250.0       1.0  362000.0      NaN   \n",
       "\n",
       "              V9        TP       GWP  \n",
       "count   647206.0  599089.0  647206.0  \n",
       "unique       NaN       NaN       NaN  \n",
       "top          NaN       NaN       NaN  \n",
       "freq         NaN       NaN       NaN  \n",
       "mean       887.6     113.0     963.7  \n",
       "std        900.5     123.9     892.0  \n",
       "min      -2515.0       0.0      67.0  \n",
       "25%        122.0      41.3     438.0  \n",
       "50%        731.0      72.8     688.0  \n",
       "75%       1307.0     136.3    1154.0  \n",
       "max      18202.0    3372.8   24225.0  \n",
       "\n",
       "[11 rows x 32 columns]"
      ]
     },
     "execution_count": 63,
     "metadata": {},
     "output_type": "execute_result"
    }
   ],
   "source": [
    "main_df.describe(include = 'all').round(1)"
   ]
  },
  {
   "cell_type": "code",
   "execution_count": 64,
   "metadata": {},
   "outputs": [
    {
     "data": {
      "text/plain": [
       "array(['2020-10-01', '2020-10-02', '2020-10-03', '2020-10-04',\n",
       "       '2020-10-05', '2020-10-06', '2020-10-07'], dtype=object)"
      ]
     },
     "execution_count": 64,
     "metadata": {},
     "output_type": "execute_result"
    }
   ],
   "source": [
    "main_df['QUOTEDATE'].unique() #First week of October is only considered"
   ]
  },
  {
   "cell_type": "code",
   "execution_count": 65,
   "metadata": {
    "scrolled": false
   },
   "outputs": [
    {
     "name": "stdout",
     "output_type": "stream",
     "text": [
      "<class 'pandas.core.frame.DataFrame'>\n",
      "RangeIndex: 647206 entries, 0 to 647205\n",
      "Data columns (total 32 columns):\n",
      "QUOTEUUID    647206 non-null object\n",
      "QUOTEDATE    647206 non-null object\n",
      "PG1          647206 non-null int64\n",
      "PE1          647206 non-null float64\n",
      "PL1          647181 non-null float64\n",
      "PM1          647206 non-null object\n",
      "PN1          647206 non-null int64\n",
      "PO1          642334 non-null float64\n",
      "APC          647206 non-null object\n",
      "C1           647206 non-null object\n",
      "C2           166598 non-null object\n",
      "D0           647206 non-null int64\n",
      "D1           627655 non-null float64\n",
      "D2           627467 non-null float64\n",
      "D3           627467 non-null float64\n",
      "D4           627655 non-null float64\n",
      "D5           601212 non-null float64\n",
      "D6           599902 non-null float64\n",
      "QTI          647206 non-null int64\n",
      "V0           544188 non-null float64\n",
      "V1           544188 non-null float64\n",
      "V10          647206 non-null int64\n",
      "V2           544188 non-null float64\n",
      "V3           606803 non-null float64\n",
      "V4           647206 non-null float64\n",
      "V5           647206 non-null float64\n",
      "V6           647206 non-null int64\n",
      "V7           626594 non-null float64\n",
      "V8           647206 non-null object\n",
      "V9           647206 non-null int64\n",
      "TP           599089 non-null float64\n",
      "GWP          647206 non-null float64\n",
      "dtypes: float64(18), int64(7), object(7)\n",
      "memory usage: 158.0+ MB\n"
     ]
    }
   ],
   "source": [
    "main_df.info()"
   ]
  },
  {
   "cell_type": "code",
   "execution_count": 66,
   "metadata": {},
   "outputs": [
    {
     "data": {
      "text/plain": [
       "QUOTEUUID         0\n",
       "QUOTEDATE         0\n",
       "PG1               0\n",
       "PE1               0\n",
       "PL1              25\n",
       "PM1               0\n",
       "PN1               0\n",
       "PO1            4872\n",
       "APC               0\n",
       "C1                0\n",
       "C2           480608\n",
       "D0                0\n",
       "D1            19551\n",
       "D2            19739\n",
       "D3            19739\n",
       "D4            19551\n",
       "D5            45994\n",
       "D6            47304\n",
       "QTI               0\n",
       "V0           103018\n",
       "V1           103018\n",
       "V10               0\n",
       "V2           103018\n",
       "V3            40403\n",
       "V4                0\n",
       "V5                0\n",
       "V6                0\n",
       "V7            20612\n",
       "V8                0\n",
       "V9                0\n",
       "TP            48117\n",
       "GWP               0\n",
       "dtype: int64"
      ]
     },
     "execution_count": 66,
     "metadata": {},
     "output_type": "execute_result"
    }
   ],
   "source": [
    "main_df.isna().sum() #Detects the amount of missing values."
   ]
  },
  {
   "cell_type": "code",
   "execution_count": 67,
   "metadata": {
    "scrolled": false
   },
   "outputs": [
    {
     "data": {
      "text/html": [
       "<div>\n",
       "<style scoped>\n",
       "    .dataframe tbody tr th:only-of-type {\n",
       "        vertical-align: middle;\n",
       "    }\n",
       "\n",
       "    .dataframe tbody tr th {\n",
       "        vertical-align: top;\n",
       "    }\n",
       "\n",
       "    .dataframe thead th {\n",
       "        text-align: right;\n",
       "    }\n",
       "</style>\n",
       "<table border=\"1\" class=\"dataframe\">\n",
       "  <thead>\n",
       "    <tr style=\"text-align: right;\">\n",
       "      <th></th>\n",
       "      <th>PG1</th>\n",
       "      <th>PE1</th>\n",
       "      <th>PL1</th>\n",
       "      <th>PM1</th>\n",
       "      <th>PN1</th>\n",
       "      <th>PO1</th>\n",
       "      <th>C1</th>\n",
       "      <th>C2</th>\n",
       "      <th>D0</th>\n",
       "      <th>D1</th>\n",
       "      <th>...</th>\n",
       "      <th>V2</th>\n",
       "      <th>V3</th>\n",
       "      <th>V4</th>\n",
       "      <th>V5</th>\n",
       "      <th>V6</th>\n",
       "      <th>V7</th>\n",
       "      <th>V8</th>\n",
       "      <th>V9</th>\n",
       "      <th>TP</th>\n",
       "      <th>GWP</th>\n",
       "    </tr>\n",
       "  </thead>\n",
       "  <tbody>\n",
       "    <tr>\n",
       "      <th>0</th>\n",
       "      <td>54</td>\n",
       "      <td>2.0</td>\n",
       "      <td>1.0</td>\n",
       "      <td>M</td>\n",
       "      <td>6</td>\n",
       "      <td>9.0</td>\n",
       "      <td>Comprehensive</td>\n",
       "      <td>L</td>\n",
       "      <td>0</td>\n",
       "      <td>708.0</td>\n",
       "      <td>...</td>\n",
       "      <td>10.0</td>\n",
       "      <td>10.0</td>\n",
       "      <td>6345.0</td>\n",
       "      <td>250.0</td>\n",
       "      <td>0</td>\n",
       "      <td>4000.0</td>\n",
       "      <td>At Home</td>\n",
       "      <td>610</td>\n",
       "      <td>39.49</td>\n",
       "      <td>382.0</td>\n",
       "    </tr>\n",
       "    <tr>\n",
       "      <th>1</th>\n",
       "      <td>28</td>\n",
       "      <td>0.0</td>\n",
       "      <td>1.0</td>\n",
       "      <td>S</td>\n",
       "      <td>5</td>\n",
       "      <td>9.0</td>\n",
       "      <td>Comprehensive</td>\n",
       "      <td>NaN</td>\n",
       "      <td>0</td>\n",
       "      <td>746.0</td>\n",
       "      <td>...</td>\n",
       "      <td>10.0</td>\n",
       "      <td>5.0</td>\n",
       "      <td>4000.0</td>\n",
       "      <td>500.0</td>\n",
       "      <td>0</td>\n",
       "      <td>8000.0</td>\n",
       "      <td>At Home</td>\n",
       "      <td>229</td>\n",
       "      <td>229.33</td>\n",
       "      <td>1176.0</td>\n",
       "    </tr>\n",
       "    <tr>\n",
       "      <th>2</th>\n",
       "      <td>25</td>\n",
       "      <td>0.0</td>\n",
       "      <td>1.0</td>\n",
       "      <td>S</td>\n",
       "      <td>5</td>\n",
       "      <td>9.0</td>\n",
       "      <td>Comprehensive</td>\n",
       "      <td>NaN</td>\n",
       "      <td>0</td>\n",
       "      <td>809.0</td>\n",
       "      <td>...</td>\n",
       "      <td>8.0</td>\n",
       "      <td>9.0</td>\n",
       "      <td>2800.0</td>\n",
       "      <td>150.0</td>\n",
       "      <td>0</td>\n",
       "      <td>8000.0</td>\n",
       "      <td>At Home</td>\n",
       "      <td>76</td>\n",
       "      <td>286.27</td>\n",
       "      <td>2152.0</td>\n",
       "    </tr>\n",
       "    <tr>\n",
       "      <th>3</th>\n",
       "      <td>26</td>\n",
       "      <td>0.0</td>\n",
       "      <td>1.0</td>\n",
       "      <td>S</td>\n",
       "      <td>4</td>\n",
       "      <td>9.0</td>\n",
       "      <td>Comprehensive</td>\n",
       "      <td>NaN</td>\n",
       "      <td>0</td>\n",
       "      <td>708.0</td>\n",
       "      <td>...</td>\n",
       "      <td>10.0</td>\n",
       "      <td>6.0</td>\n",
       "      <td>6700.0</td>\n",
       "      <td>250.0</td>\n",
       "      <td>0</td>\n",
       "      <td>8000.0</td>\n",
       "      <td>At Home</td>\n",
       "      <td>789</td>\n",
       "      <td>246.94</td>\n",
       "      <td>1878.0</td>\n",
       "    </tr>\n",
       "    <tr>\n",
       "      <th>4</th>\n",
       "      <td>82</td>\n",
       "      <td>2.0</td>\n",
       "      <td>1.0</td>\n",
       "      <td>M</td>\n",
       "      <td>2</td>\n",
       "      <td>9.0</td>\n",
       "      <td>Comprehensive</td>\n",
       "      <td>NaN</td>\n",
       "      <td>0</td>\n",
       "      <td>816.0</td>\n",
       "      <td>...</td>\n",
       "      <td>10.0</td>\n",
       "      <td>2.0</td>\n",
       "      <td>7795.0</td>\n",
       "      <td>0.0</td>\n",
       "      <td>0</td>\n",
       "      <td>10000.0</td>\n",
       "      <td>At Home</td>\n",
       "      <td>761</td>\n",
       "      <td>31.43</td>\n",
       "      <td>412.0</td>\n",
       "    </tr>\n",
       "  </tbody>\n",
       "</table>\n",
       "<p>5 rows × 29 columns</p>\n",
       "</div>"
      ],
      "text/plain": [
       "   PG1  PE1  PL1 PM1  PN1  PO1             C1   C2  D0     D1   ...      V2  \\\n",
       "0   54  2.0  1.0   M    6  9.0  Comprehensive    L   0  708.0   ...    10.0   \n",
       "1   28  0.0  1.0   S    5  9.0  Comprehensive  NaN   0  746.0   ...    10.0   \n",
       "2   25  0.0  1.0   S    5  9.0  Comprehensive  NaN   0  809.0   ...     8.0   \n",
       "3   26  0.0  1.0   S    4  9.0  Comprehensive  NaN   0  708.0   ...    10.0   \n",
       "4   82  2.0  1.0   M    2  9.0  Comprehensive  NaN   0  816.0   ...    10.0   \n",
       "\n",
       "     V3      V4     V5  V6       V7       V8   V9      TP     GWP  \n",
       "0  10.0  6345.0  250.0   0   4000.0  At Home  610   39.49   382.0  \n",
       "1   5.0  4000.0  500.0   0   8000.0  At Home  229  229.33  1176.0  \n",
       "2   9.0  2800.0  150.0   0   8000.0  At Home   76  286.27  2152.0  \n",
       "3   6.0  6700.0  250.0   0   8000.0  At Home  789  246.94  1878.0  \n",
       "4   2.0  7795.0    0.0   0  10000.0  At Home  761   31.43   412.0  \n",
       "\n",
       "[5 rows x 29 columns]"
      ]
     },
     "execution_count": 67,
     "metadata": {},
     "output_type": "execute_result"
    }
   ],
   "source": [
    "main_df = main_df.drop(['QUOTEUUID','QUOTEDATE','APC'],axis = 1) #Dropping meaningless information for this purpose.\n",
    "main_df.head()"
   ]
  },
  {
   "cell_type": "code",
   "execution_count": 68,
   "metadata": {},
   "outputs": [
    {
     "name": "stdout",
     "output_type": "stream",
     "text": [
      "Index(['PG1', 'PE1', 'PL1', 'PM1', 'PN1', 'PO1', 'C1', 'C2', 'D0', 'D1', 'D2',\n",
      "       'D3', 'D4', 'D5', 'D6', 'QTI', 'V0', 'V1', 'V10', 'V2', 'V3', 'V4',\n",
      "       'V5', 'V6', 'V7', 'V8', 'V9', 'TP', 'GWP'],\n",
      "      dtype='object')\n",
      "29\n"
     ]
    }
   ],
   "source": [
    "print(main_df.columns)\n",
    "print(len(main_df.columns))"
   ]
  },
  {
   "cell_type": "code",
   "execution_count": 69,
   "metadata": {},
   "outputs": [
    {
     "data": {
      "text/html": [
       "<div>\n",
       "<style scoped>\n",
       "    .dataframe tbody tr th:only-of-type {\n",
       "        vertical-align: middle;\n",
       "    }\n",
       "\n",
       "    .dataframe tbody tr th {\n",
       "        vertical-align: top;\n",
       "    }\n",
       "\n",
       "    .dataframe thead th {\n",
       "        text-align: right;\n",
       "    }\n",
       "</style>\n",
       "<table border=\"1\" class=\"dataframe\">\n",
       "  <thead>\n",
       "    <tr style=\"text-align: right;\">\n",
       "      <th></th>\n",
       "      <th>PG1</th>\n",
       "      <th>PE1</th>\n",
       "      <th>PL1</th>\n",
       "      <th>PM1</th>\n",
       "      <th>PN1</th>\n",
       "      <th>PO1</th>\n",
       "      <th>C1</th>\n",
       "      <th>C2</th>\n",
       "      <th>D0</th>\n",
       "      <th>D1</th>\n",
       "      <th>...</th>\n",
       "      <th>V2</th>\n",
       "      <th>V3</th>\n",
       "      <th>V4</th>\n",
       "      <th>V5</th>\n",
       "      <th>V6</th>\n",
       "      <th>V7</th>\n",
       "      <th>V8</th>\n",
       "      <th>V9</th>\n",
       "      <th>TP</th>\n",
       "      <th>GWP</th>\n",
       "    </tr>\n",
       "  </thead>\n",
       "  <tbody>\n",
       "    <tr>\n",
       "      <th>0</th>\n",
       "      <td>54</td>\n",
       "      <td>2.0</td>\n",
       "      <td>1.0</td>\n",
       "      <td>M</td>\n",
       "      <td>6</td>\n",
       "      <td>9.0</td>\n",
       "      <td>Comprehensive</td>\n",
       "      <td>L</td>\n",
       "      <td>0</td>\n",
       "      <td>708.0</td>\n",
       "      <td>...</td>\n",
       "      <td>10.0</td>\n",
       "      <td>10.0</td>\n",
       "      <td>6345.0</td>\n",
       "      <td>250.0</td>\n",
       "      <td>0</td>\n",
       "      <td>4000.0</td>\n",
       "      <td>At Home</td>\n",
       "      <td>610</td>\n",
       "      <td>39.49</td>\n",
       "      <td>382.0</td>\n",
       "    </tr>\n",
       "    <tr>\n",
       "      <th>1</th>\n",
       "      <td>28</td>\n",
       "      <td>0.0</td>\n",
       "      <td>1.0</td>\n",
       "      <td>S</td>\n",
       "      <td>5</td>\n",
       "      <td>9.0</td>\n",
       "      <td>Comprehensive</td>\n",
       "      <td>NaN</td>\n",
       "      <td>0</td>\n",
       "      <td>746.0</td>\n",
       "      <td>...</td>\n",
       "      <td>10.0</td>\n",
       "      <td>5.0</td>\n",
       "      <td>4000.0</td>\n",
       "      <td>500.0</td>\n",
       "      <td>0</td>\n",
       "      <td>8000.0</td>\n",
       "      <td>At Home</td>\n",
       "      <td>229</td>\n",
       "      <td>229.33</td>\n",
       "      <td>1176.0</td>\n",
       "    </tr>\n",
       "    <tr>\n",
       "      <th>2</th>\n",
       "      <td>25</td>\n",
       "      <td>0.0</td>\n",
       "      <td>1.0</td>\n",
       "      <td>S</td>\n",
       "      <td>5</td>\n",
       "      <td>9.0</td>\n",
       "      <td>Comprehensive</td>\n",
       "      <td>NaN</td>\n",
       "      <td>0</td>\n",
       "      <td>809.0</td>\n",
       "      <td>...</td>\n",
       "      <td>8.0</td>\n",
       "      <td>9.0</td>\n",
       "      <td>2800.0</td>\n",
       "      <td>150.0</td>\n",
       "      <td>0</td>\n",
       "      <td>8000.0</td>\n",
       "      <td>At Home</td>\n",
       "      <td>76</td>\n",
       "      <td>286.27</td>\n",
       "      <td>2152.0</td>\n",
       "    </tr>\n",
       "  </tbody>\n",
       "</table>\n",
       "<p>3 rows × 29 columns</p>\n",
       "</div>"
      ],
      "text/plain": [
       "   PG1  PE1  PL1 PM1  PN1  PO1             C1   C2  D0     D1   ...      V2  \\\n",
       "0   54  2.0  1.0   M    6  9.0  Comprehensive    L   0  708.0   ...    10.0   \n",
       "1   28  0.0  1.0   S    5  9.0  Comprehensive  NaN   0  746.0   ...    10.0   \n",
       "2   25  0.0  1.0   S    5  9.0  Comprehensive  NaN   0  809.0   ...     8.0   \n",
       "\n",
       "     V3      V4     V5  V6      V7       V8   V9      TP     GWP  \n",
       "0  10.0  6345.0  250.0   0  4000.0  At Home  610   39.49   382.0  \n",
       "1   5.0  4000.0  500.0   0  8000.0  At Home  229  229.33  1176.0  \n",
       "2   9.0  2800.0  150.0   0  8000.0  At Home   76  286.27  2152.0  \n",
       "\n",
       "[3 rows x 29 columns]"
      ]
     },
     "execution_count": 69,
     "metadata": {},
     "output_type": "execute_result"
    }
   ],
   "source": [
    "#Checkpoint. First processed part\n",
    "main_df_p1 = main_df.copy()\n",
    "main_df_p1.head(3)\n",
    "#Now we have all features and the targets(GWP)"
   ]
  },
  {
   "cell_type": "markdown",
   "metadata": {},
   "source": [
    "# Categorical Data Exploration"
   ]
  },
  {
   "cell_type": "code",
   "execution_count": 70,
   "metadata": {},
   "outputs": [
    {
     "name": "stdout",
     "output_type": "stream",
     "text": [
      "Categorical features: ['PM1', 'C1', 'C2', 'V8'] Total: 4\n",
      "Numerical features: ['PG1', 'PE1', 'PL1', 'PN1', 'PO1', 'D0', 'D1', 'D2', 'D3', 'D4', 'D5', 'D6', 'QTI', 'V0', 'V1', 'V10', 'V2', 'V3', 'V4', 'V5', 'V6', 'V7', 'V9', 'TP', 'GWP'] Total: 25\n"
     ]
    }
   ],
   "source": [
    "columns = list(main_df_p1)\n",
    "categorical_col = ['PM1','C1','C2','V8']\n",
    "numeric_col = [x for x in columns if x not in categorical_col]\n",
    "\n",
    "print('Categorical features:', categorical_col, 'Total:', len(categorical_col))\n",
    "\n",
    "print('Numerical features:',numeric_col, 'Total:', len(numeric_col) )"
   ]
  },
  {
   "cell_type": "code",
   "execution_count": 71,
   "metadata": {},
   "outputs": [
    {
     "data": {
      "text/plain": [
       "Index(['PG1', 'PE1', 'PL1', 'PM1', 'PN1', 'PO1', 'C1', 'C2', 'D0', 'D1', 'D2',\n",
       "       'D3', 'D4', 'D5', 'D6', 'QTI', 'V0', 'V1', 'V10', 'V2', 'V3', 'V4',\n",
       "       'V5', 'V6', 'V7', 'V8', 'V9', 'TP', 'GWP'],\n",
       "      dtype='object')"
      ]
     },
     "execution_count": 71,
     "metadata": {},
     "output_type": "execute_result"
    }
   ],
   "source": [
    "main_df_p1.columns"
   ]
  },
  {
   "cell_type": "markdown",
   "metadata": {},
   "source": [
    "## PM1"
   ]
  },
  {
   "cell_type": "code",
   "execution_count": 72,
   "metadata": {
    "scrolled": false
   },
   "outputs": [
    {
     "name": "stdout",
     "output_type": "stream",
     "text": [
      "['M' 'S' 'P' 'D' 'W' 'B' 'C' 'A' 'O' 'N']\n",
      "(10,)\n"
     ]
    },
    {
     "data": {
      "text/plain": [
       "<matplotlib.axes._subplots.AxesSubplot at 0x1c7de52208>"
      ]
     },
     "execution_count": 72,
     "metadata": {},
     "output_type": "execute_result"
    },
    {
     "data": {
      "image/png": "[encoded data removed]",
      "text/plain": [
       "<Figure size 576x288 with 1 Axes>"
      ]
     },
     "metadata": {},
     "output_type": "display_data"
    }
   ],
   "source": [
    "pm1 = (main_df_p1['PM1'])\n",
    "print(pm1.unique())\n",
    "print(pm1.unique().shape)\n",
    "\n",
    "plt.figure(figsize = (8,4))\n",
    "sns.countplot(x = 'PM1', data = main_df_p1)"
   ]
  },
  {
   "cell_type": "markdown",
   "metadata": {},
   "source": [
    "## C1"
   ]
  },
  {
   "cell_type": "code",
   "execution_count": 73,
   "metadata": {},
   "outputs": [
    {
     "name": "stdout",
     "output_type": "stream",
     "text": [
      "['Comprehensive' 'Third Party Fire and Theft' 'Third Party Only']\n",
      "(3,)\n"
     ]
    },
    {
     "data": {
      "text/plain": [
       "<matplotlib.axes._subplots.AxesSubplot at 0x1c1d4df710>"
      ]
     },
     "execution_count": 73,
     "metadata": {},
     "output_type": "execute_result"
    },
    {
     "data": {
      "image/png": "[encoded data removed]",
      "text/plain": [
       "<Figure size 576x288 with 1 Axes>"
      ]
     },
     "metadata": {},
     "output_type": "display_data"
    }
   ],
   "source": [
    "c1 = (main_df_p1['C1'])\n",
    "print(c1.unique())\n",
    "print(c1.unique().shape)\n",
    "\n",
    "plt.figure(figsize = (8,4))\n",
    "sns.countplot(x = 'C1', data = main_df_p1)"
   ]
  },
  {
   "cell_type": "markdown",
   "metadata": {},
   "source": [
    "## C2 and Terms"
   ]
  },
  {
   "cell_type": "code",
   "execution_count": 74,
   "metadata": {
    "scrolled": true
   },
   "outputs": [
    {
     "data": {
      "text/html": [
       "<div>\n",
       "<style scoped>\n",
       "    .dataframe tbody tr th:only-of-type {\n",
       "        vertical-align: middle;\n",
       "    }\n",
       "\n",
       "    .dataframe tbody tr th {\n",
       "        vertical-align: top;\n",
       "    }\n",
       "\n",
       "    .dataframe thead th {\n",
       "        text-align: right;\n",
       "    }\n",
       "</style>\n",
       "<table border=\"1\" class=\"dataframe\">\n",
       "  <thead>\n",
       "    <tr style=\"text-align: right;\">\n",
       "      <th></th>\n",
       "      <th>C2</th>\n",
       "      <th>C3</th>\n",
       "    </tr>\n",
       "  </thead>\n",
       "  <tbody>\n",
       "    <tr>\n",
       "      <th>0</th>\n",
       "      <td>A</td>\n",
       "      <td>150</td>\n",
       "    </tr>\n",
       "    <tr>\n",
       "      <th>1</th>\n",
       "      <td>B</td>\n",
       "      <td>150</td>\n",
       "    </tr>\n",
       "    <tr>\n",
       "      <th>2</th>\n",
       "      <td>C</td>\n",
       "      <td>150</td>\n",
       "    </tr>\n",
       "    <tr>\n",
       "      <th>3</th>\n",
       "      <td>D</td>\n",
       "      <td>150</td>\n",
       "    </tr>\n",
       "    <tr>\n",
       "      <th>4</th>\n",
       "      <td>L</td>\n",
       "      <td>200</td>\n",
       "    </tr>\n",
       "    <tr>\n",
       "      <th>5</th>\n",
       "      <td>M</td>\n",
       "      <td>250</td>\n",
       "    </tr>\n",
       "    <tr>\n",
       "      <th>6</th>\n",
       "      <td>N</td>\n",
       "      <td>350</td>\n",
       "    </tr>\n",
       "    <tr>\n",
       "      <th>7</th>\n",
       "      <td>O</td>\n",
       "      <td>400</td>\n",
       "    </tr>\n",
       "    <tr>\n",
       "      <th>8</th>\n",
       "      <td>NAN</td>\n",
       "      <td>150</td>\n",
       "    </tr>\n",
       "    <tr>\n",
       "      <th>9</th>\n",
       "      <td>NaN</td>\n",
       "      <td>150</td>\n",
       "    </tr>\n",
       "    <tr>\n",
       "      <th>10</th>\n",
       "      <td>NaN</td>\n",
       "      <td>150</td>\n",
       "    </tr>\n",
       "    <tr>\n",
       "      <th>11</th>\n",
       "      <td>NaN</td>\n",
       "      <td>150</td>\n",
       "    </tr>\n",
       "  </tbody>\n",
       "</table>\n",
       "</div>"
      ],
      "text/plain": [
       "     C2   C3\n",
       "0     A  150\n",
       "1     B  150\n",
       "2     C  150\n",
       "3     D  150\n",
       "4     L  200\n",
       "5     M  250\n",
       "6     N  350\n",
       "7     O  400\n",
       "8   NAN  150\n",
       "9   NaN  150\n",
       "10  NaN  150\n",
       "11  NaN  150"
      ]
     },
     "execution_count": 74,
     "metadata": {},
     "output_type": "execute_result"
    }
   ],
   "source": [
    "terms_df = pd.read_csv('terms_v1.csv')\n",
    "terms_df"
   ]
  },
  {
   "cell_type": "code",
   "execution_count": 75,
   "metadata": {},
   "outputs": [
    {
     "data": {
      "text/html": [
       "<div>\n",
       "<style scoped>\n",
       "    .dataframe tbody tr th:only-of-type {\n",
       "        vertical-align: middle;\n",
       "    }\n",
       "\n",
       "    .dataframe tbody tr th {\n",
       "        vertical-align: top;\n",
       "    }\n",
       "\n",
       "    .dataframe thead th {\n",
       "        text-align: right;\n",
       "    }\n",
       "</style>\n",
       "<table border=\"1\" class=\"dataframe\">\n",
       "  <thead>\n",
       "    <tr style=\"text-align: right;\">\n",
       "      <th></th>\n",
       "      <th>C2</th>\n",
       "      <th>C3</th>\n",
       "    </tr>\n",
       "  </thead>\n",
       "  <tbody>\n",
       "    <tr>\n",
       "      <th>0</th>\n",
       "      <td>A</td>\n",
       "      <td>150</td>\n",
       "    </tr>\n",
       "    <tr>\n",
       "      <th>1</th>\n",
       "      <td>B</td>\n",
       "      <td>150</td>\n",
       "    </tr>\n",
       "    <tr>\n",
       "      <th>2</th>\n",
       "      <td>C</td>\n",
       "      <td>150</td>\n",
       "    </tr>\n",
       "    <tr>\n",
       "      <th>3</th>\n",
       "      <td>D</td>\n",
       "      <td>150</td>\n",
       "    </tr>\n",
       "    <tr>\n",
       "      <th>4</th>\n",
       "      <td>L</td>\n",
       "      <td>200</td>\n",
       "    </tr>\n",
       "    <tr>\n",
       "      <th>5</th>\n",
       "      <td>M</td>\n",
       "      <td>250</td>\n",
       "    </tr>\n",
       "    <tr>\n",
       "      <th>6</th>\n",
       "      <td>N</td>\n",
       "      <td>350</td>\n",
       "    </tr>\n",
       "    <tr>\n",
       "      <th>7</th>\n",
       "      <td>O</td>\n",
       "      <td>400</td>\n",
       "    </tr>\n",
       "  </tbody>\n",
       "</table>\n",
       "</div>"
      ],
      "text/plain": [
       "  C2   C3\n",
       "0  A  150\n",
       "1  B  150\n",
       "2  C  150\n",
       "3  D  150\n",
       "4  L  200\n",
       "5  M  250\n",
       "6  N  350\n",
       "7  O  400"
      ]
     },
     "execution_count": 75,
     "metadata": {},
     "output_type": "execute_result"
    }
   ],
   "source": [
    "terms_df.iloc[0:8,:] "
   ]
  },
  {
   "cell_type": "code",
   "execution_count": 76,
   "metadata": {
    "scrolled": true
   },
   "outputs": [
    {
     "name": "stdout",
     "output_type": "stream",
     "text": [
      "['L' nan 'B' 'A' 'M' 'N' 'O']\n",
      "(7,)\n"
     ]
    },
    {
     "data": {
      "text/plain": [
       "<matplotlib.axes._subplots.AxesSubplot at 0x1c1f1359b0>"
      ]
     },
     "execution_count": 76,
     "metadata": {},
     "output_type": "execute_result"
    },
    {
     "data": {
      "image/png": "[encoded data removed]",
      "text/plain": [
       "<Figure size 576x288 with 1 Axes>"
      ]
     },
     "metadata": {},
     "output_type": "display_data"
    }
   ],
   "source": [
    "c2 = (main_df_p1['C2'])\n",
    "print(c2.unique())\n",
    "print(c2.unique().shape)\n",
    "\n",
    "plt.figure(figsize = (8,4))\n",
    "sns.countplot(x = 'C2', data = main_df_p1, color = 'blue')"
   ]
  },
  {
   "cell_type": "code",
   "execution_count": 77,
   "metadata": {
    "scrolled": false
   },
   "outputs": [
    {
     "data": {
      "text/plain": [
       "<matplotlib.axes._subplots.AxesSubplot at 0x1c1f499518>"
      ]
     },
     "execution_count": 77,
     "metadata": {},
     "output_type": "execute_result"
    },
    {
     "data": {
      "image/png": "[encoded data removed]",
      "text/plain": [
       "<Figure size 432x288 with 1 Axes>"
      ]
     },
     "metadata": {},
     "output_type": "display_data"
    }
   ],
   "source": [
    "main_df_p1.C2.value_counts().plot(kind=\"pie\")"
   ]
  },
  {
   "cell_type": "markdown",
   "metadata": {},
   "source": [
    "## V8"
   ]
  },
  {
   "cell_type": "code",
   "execution_count": 78,
   "metadata": {
    "scrolled": true
   },
   "outputs": [
    {
     "name": "stdout",
     "output_type": "stream",
     "text": [
      "At Home           582516\n",
      "Garage             62601\n",
      "Car Park            1629\n",
      "Secure Carpark       460\n",
      "Name: V8, dtype: int64\n",
      "['At Home' 'Garage' 'Car Park' 'Secure Carpark']\n",
      "(4,)\n"
     ]
    },
    {
     "data": {
      "text/plain": [
       "<matplotlib.axes._subplots.AxesSubplot at 0x1c7de53198>"
      ]
     },
     "execution_count": 78,
     "metadata": {},
     "output_type": "execute_result"
    },
    {
     "data": {
      "image/png": "[encoded data removed]",
      "text/plain": [
       "<Figure size 576x288 with 1 Axes>"
      ]
     },
     "metadata": {},
     "output_type": "display_data"
    }
   ],
   "source": [
    "v8 = (main_df_p1['V8'])\n",
    "print(v8.value_counts())\n",
    "print(v8.unique())\n",
    "print(v8.unique().shape)\n",
    "\n",
    "\n",
    "plt.figure(figsize = (8,4))\n",
    "sns.countplot(x = 'V8', data = main_df_p1)"
   ]
  },
  {
   "cell_type": "markdown",
   "metadata": {},
   "source": [
    "## Area"
   ]
  },
  {
   "cell_type": "code",
   "execution_count": 79,
   "metadata": {
    "scrolled": true
   },
   "outputs": [
    {
     "data": {
      "text/html": [
       "<div>\n",
       "<style scoped>\n",
       "    .dataframe tbody tr th:only-of-type {\n",
       "        vertical-align: middle;\n",
       "    }\n",
       "\n",
       "    .dataframe tbody tr th {\n",
       "        vertical-align: top;\n",
       "    }\n",
       "\n",
       "    .dataframe thead th {\n",
       "        text-align: right;\n",
       "    }\n",
       "</style>\n",
       "<table border=\"1\" class=\"dataframe\">\n",
       "  <thead>\n",
       "    <tr style=\"text-align: right;\">\n",
       "      <th></th>\n",
       "      <th>APC</th>\n",
       "      <th>A0</th>\n",
       "      <th>A1</th>\n",
       "      <th>A2</th>\n",
       "      <th>A3</th>\n",
       "    </tr>\n",
       "  </thead>\n",
       "  <tbody>\n",
       "    <tr>\n",
       "      <th>0</th>\n",
       "      <td>ST29JJ</td>\n",
       "      <td>West Midlands</td>\n",
       "      <td>54.0</td>\n",
       "      <td>45.0</td>\n",
       "      <td>62.0</td>\n",
       "    </tr>\n",
       "    <tr>\n",
       "      <th>1</th>\n",
       "      <td>WF134HT</td>\n",
       "      <td>Yorks and Humbs</td>\n",
       "      <td>80.0</td>\n",
       "      <td>71.0</td>\n",
       "      <td>73.0</td>\n",
       "    </tr>\n",
       "    <tr>\n",
       "      <th>2</th>\n",
       "      <td>CT93UH</td>\n",
       "      <td>South-East England</td>\n",
       "      <td>25.0</td>\n",
       "      <td>43.0</td>\n",
       "      <td>50.0</td>\n",
       "    </tr>\n",
       "    <tr>\n",
       "      <th>3</th>\n",
       "      <td>CF55DY</td>\n",
       "      <td>Wales</td>\n",
       "      <td>51.0</td>\n",
       "      <td>56.0</td>\n",
       "      <td>63.0</td>\n",
       "    </tr>\n",
       "    <tr>\n",
       "      <th>4</th>\n",
       "      <td>IP313HQ</td>\n",
       "      <td>East Anglia</td>\n",
       "      <td>21.0</td>\n",
       "      <td>20.0</td>\n",
       "      <td>34.0</td>\n",
       "    </tr>\n",
       "  </tbody>\n",
       "</table>\n",
       "</div>"
      ],
      "text/plain": [
       "       APC                  A0    A1    A2    A3\n",
       "0   ST29JJ       West Midlands  54.0  45.0  62.0\n",
       "1  WF134HT     Yorks and Humbs  80.0  71.0  73.0\n",
       "2   CT93UH  South-East England  25.0  43.0  50.0\n",
       "3   CF55DY               Wales  51.0  56.0  63.0\n",
       "4  IP313HQ         East Anglia  21.0  20.0  34.0"
      ]
     },
     "execution_count": 79,
     "metadata": {},
     "output_type": "execute_result"
    }
   ],
   "source": [
    "area_df = pd.read_csv('area_v1.csv')\n",
    "area_df.head()"
   ]
  },
  {
   "cell_type": "code",
   "execution_count": 80,
   "metadata": {},
   "outputs": [
    {
     "name": "stdout",
     "output_type": "stream",
     "text": [
      "(281469, 5)\n"
     ]
    }
   ],
   "source": [
    "print(area_df.shape)"
   ]
  },
  {
   "cell_type": "code",
   "execution_count": 81,
   "metadata": {
    "scrolled": true
   },
   "outputs": [
    {
     "name": "stdout",
     "output_type": "stream",
     "text": [
      "['West Midlands' 'Yorks and Humbs' 'South-East England' 'Wales'\n",
      " 'East Anglia' 'North-West England' 'Scotland' 'South-West England'\n",
      " 'East Midlands' 'North-East England' 'Greater London' 'Others'\n",
      " 'Non-Mainland UK ']\n",
      "(13,)\n"
     ]
    },
    {
     "data": {
      "text/plain": [
       "(array([ 0,  1,  2,  3,  4,  5,  6,  7,  8,  9, 10, 11, 12]),\n",
       " <a list of 13 Text xticklabel objects>)"
      ]
     },
     "execution_count": 81,
     "metadata": {},
     "output_type": "execute_result"
    },
    {
     "data": {
      "image/png": "[encoded data removed]",
      "text/plain": [
       "<Figure size 1440x288 with 1 Axes>"
      ]
     },
     "metadata": {},
     "output_type": "display_data"
    }
   ],
   "source": [
    "a0 = (area_df['A0'])\n",
    "print(a0.unique())\n",
    "print(a0.unique().shape)\n",
    "\n",
    "plt.figure(figsize = (20,4))\n",
    "sns.countplot(x = 'A0', data = area_df)\n",
    "plt.xticks(rotation = 10)"
   ]
  },
  {
   "cell_type": "code",
   "execution_count": 82,
   "metadata": {},
   "outputs": [],
   "source": [
    "#Checkpoint 2\n",
    "main_df_p2 = main_df_p1.copy()"
   ]
  },
  {
   "cell_type": "code",
   "execution_count": 83,
   "metadata": {},
   "outputs": [
    {
     "data": {
      "text/html": [
       "<div>\n",
       "<style scoped>\n",
       "    .dataframe tbody tr th:only-of-type {\n",
       "        vertical-align: middle;\n",
       "    }\n",
       "\n",
       "    .dataframe tbody tr th {\n",
       "        vertical-align: top;\n",
       "    }\n",
       "\n",
       "    .dataframe thead th {\n",
       "        text-align: right;\n",
       "    }\n",
       "</style>\n",
       "<table border=\"1\" class=\"dataframe\">\n",
       "  <thead>\n",
       "    <tr style=\"text-align: right;\">\n",
       "      <th></th>\n",
       "      <th>A0</th>\n",
       "      <th>A1</th>\n",
       "      <th>A2</th>\n",
       "      <th>A3</th>\n",
       "    </tr>\n",
       "  </thead>\n",
       "  <tbody>\n",
       "    <tr>\n",
       "      <th>0</th>\n",
       "      <td>West Midlands</td>\n",
       "      <td>54.0</td>\n",
       "      <td>45.0</td>\n",
       "      <td>62.0</td>\n",
       "    </tr>\n",
       "    <tr>\n",
       "      <th>1</th>\n",
       "      <td>Yorks and Humbs</td>\n",
       "      <td>80.0</td>\n",
       "      <td>71.0</td>\n",
       "      <td>73.0</td>\n",
       "    </tr>\n",
       "    <tr>\n",
       "      <th>2</th>\n",
       "      <td>South-East England</td>\n",
       "      <td>25.0</td>\n",
       "      <td>43.0</td>\n",
       "      <td>50.0</td>\n",
       "    </tr>\n",
       "    <tr>\n",
       "      <th>3</th>\n",
       "      <td>Wales</td>\n",
       "      <td>51.0</td>\n",
       "      <td>56.0</td>\n",
       "      <td>63.0</td>\n",
       "    </tr>\n",
       "    <tr>\n",
       "      <th>4</th>\n",
       "      <td>East Anglia</td>\n",
       "      <td>21.0</td>\n",
       "      <td>20.0</td>\n",
       "      <td>34.0</td>\n",
       "    </tr>\n",
       "  </tbody>\n",
       "</table>\n",
       "</div>"
      ],
      "text/plain": [
       "                   A0    A1    A2    A3\n",
       "0       West Midlands  54.0  45.0  62.0\n",
       "1     Yorks and Humbs  80.0  71.0  73.0\n",
       "2  South-East England  25.0  43.0  50.0\n",
       "3               Wales  51.0  56.0  63.0\n",
       "4         East Anglia  21.0  20.0  34.0"
      ]
     },
     "execution_count": 83,
     "metadata": {},
     "output_type": "execute_result"
    }
   ],
   "source": [
    "area_df = area_df.drop(['APC'],axis = 1)\n",
    "area_df.head()"
   ]
  },
  {
   "cell_type": "markdown",
   "metadata": {},
   "source": [
    "## Include Area Data to Main Dataset"
   ]
  },
  {
   "cell_type": "markdown",
   "metadata": {},
   "source": [
    "I aim to add to the main dataset the features encountered in the test datasets that are NOT included in the main (A0, A1, A2, A3, and C3). Then when the model is trained using the main dataset, it would benefit from those features, hopefully then making better predictions for the test1 and test2."
   ]
  },
  {
   "cell_type": "code",
   "execution_count": 92,
   "metadata": {
    "scrolled": true
   },
   "outputs": [],
   "source": [
    "main_df_p2 = pd.concat([main_df_p2,area_df],axis = 1)"
   ]
  },
  {
   "cell_type": "code",
   "execution_count": 93,
   "metadata": {},
   "outputs": [
    {
     "data": {
      "text/plain": [
       "Index(['PG1', 'PE1', 'PL1', 'PM1', 'PN1', 'PO1', 'C1', 'C2', 'D0', 'D1', 'D2',\n",
       "       'D3', 'D4', 'D5', 'D6', 'QTI', 'V0', 'V1', 'V10', 'V2', 'V3', 'V4',\n",
       "       'V5', 'V6', 'V7', 'V8', 'V9', 'TP', 'GWP', 'A0', 'A1', 'A2', 'A3'],\n",
       "      dtype='object')"
      ]
     },
     "execution_count": 93,
     "metadata": {},
     "output_type": "execute_result"
    }
   ],
   "source": [
    "main_df_p2.columns"
   ]
  },
  {
   "cell_type": "code",
   "execution_count": 94,
   "metadata": {},
   "outputs": [],
   "source": [
    "columns_ordered = ['A0', 'A1', 'A2', 'A3','PG1', 'PE1', 'PL1', 'PM1', 'PN1', 'PO1', 'C1', 'C2', 'D0', 'D1', 'D2',\n",
    "       'D3', 'D4', 'D5', 'D6', 'QTI', 'V0', 'V1', 'V10', 'V2', 'V3', 'V4',\n",
    "       'V5', 'V6', 'V7', 'V8', 'V9', 'TP', 'GWP' ]"
   ]
  },
  {
   "cell_type": "code",
   "execution_count": 95,
   "metadata": {},
   "outputs": [],
   "source": [
    "main_df_p3 = main_df_p2[columns_ordered]"
   ]
  },
  {
   "cell_type": "code",
   "execution_count": 96,
   "metadata": {},
   "outputs": [
    {
     "data": {
      "text/html": [
       "<div>\n",
       "<style scoped>\n",
       "    .dataframe tbody tr th:only-of-type {\n",
       "        vertical-align: middle;\n",
       "    }\n",
       "\n",
       "    .dataframe tbody tr th {\n",
       "        vertical-align: top;\n",
       "    }\n",
       "\n",
       "    .dataframe thead th {\n",
       "        text-align: right;\n",
       "    }\n",
       "</style>\n",
       "<table border=\"1\" class=\"dataframe\">\n",
       "  <thead>\n",
       "    <tr style=\"text-align: right;\">\n",
       "      <th></th>\n",
       "      <th>A0</th>\n",
       "      <th>A1</th>\n",
       "      <th>A2</th>\n",
       "      <th>A3</th>\n",
       "      <th>PG1</th>\n",
       "      <th>PE1</th>\n",
       "      <th>PL1</th>\n",
       "      <th>PM1</th>\n",
       "      <th>PN1</th>\n",
       "      <th>PO1</th>\n",
       "      <th>...</th>\n",
       "      <th>V2</th>\n",
       "      <th>V3</th>\n",
       "      <th>V4</th>\n",
       "      <th>V5</th>\n",
       "      <th>V6</th>\n",
       "      <th>V7</th>\n",
       "      <th>V8</th>\n",
       "      <th>V9</th>\n",
       "      <th>TP</th>\n",
       "      <th>GWP</th>\n",
       "    </tr>\n",
       "  </thead>\n",
       "  <tbody>\n",
       "    <tr>\n",
       "      <th>0</th>\n",
       "      <td>West Midlands</td>\n",
       "      <td>54.0</td>\n",
       "      <td>45.0</td>\n",
       "      <td>62.0</td>\n",
       "      <td>54</td>\n",
       "      <td>2.0</td>\n",
       "      <td>1.0</td>\n",
       "      <td>M</td>\n",
       "      <td>6</td>\n",
       "      <td>9.0</td>\n",
       "      <td>...</td>\n",
       "      <td>10.0</td>\n",
       "      <td>10.0</td>\n",
       "      <td>6345.0</td>\n",
       "      <td>250.0</td>\n",
       "      <td>0</td>\n",
       "      <td>4000.0</td>\n",
       "      <td>At Home</td>\n",
       "      <td>610</td>\n",
       "      <td>39.49</td>\n",
       "      <td>382.0</td>\n",
       "    </tr>\n",
       "    <tr>\n",
       "      <th>1</th>\n",
       "      <td>Yorks and Humbs</td>\n",
       "      <td>80.0</td>\n",
       "      <td>71.0</td>\n",
       "      <td>73.0</td>\n",
       "      <td>28</td>\n",
       "      <td>0.0</td>\n",
       "      <td>1.0</td>\n",
       "      <td>S</td>\n",
       "      <td>5</td>\n",
       "      <td>9.0</td>\n",
       "      <td>...</td>\n",
       "      <td>10.0</td>\n",
       "      <td>5.0</td>\n",
       "      <td>4000.0</td>\n",
       "      <td>500.0</td>\n",
       "      <td>0</td>\n",
       "      <td>8000.0</td>\n",
       "      <td>At Home</td>\n",
       "      <td>229</td>\n",
       "      <td>229.33</td>\n",
       "      <td>1176.0</td>\n",
       "    </tr>\n",
       "  </tbody>\n",
       "</table>\n",
       "<p>2 rows × 33 columns</p>\n",
       "</div>"
      ],
      "text/plain": [
       "                A0    A1    A2    A3  PG1  PE1  PL1 PM1  PN1  PO1   ...    \\\n",
       "0    West Midlands  54.0  45.0  62.0   54  2.0  1.0   M    6  9.0   ...     \n",
       "1  Yorks and Humbs  80.0  71.0  73.0   28  0.0  1.0   S    5  9.0   ...     \n",
       "\n",
       "     V2    V3      V4     V5  V6      V7       V8   V9      TP     GWP  \n",
       "0  10.0  10.0  6345.0  250.0   0  4000.0  At Home  610   39.49   382.0  \n",
       "1  10.0   5.0  4000.0  500.0   0  8000.0  At Home  229  229.33  1176.0  \n",
       "\n",
       "[2 rows x 33 columns]"
      ]
     },
     "execution_count": 96,
     "metadata": {},
     "output_type": "execute_result"
    }
   ],
   "source": [
    "main_df_p3.head(2)"
   ]
  },
  {
   "cell_type": "code",
   "execution_count": 97,
   "metadata": {
    "scrolled": true
   },
   "outputs": [
    {
     "name": "stdout",
     "output_type": "stream",
     "text": [
      "(647206, 33)\n"
     ]
    }
   ],
   "source": [
    "print(main_df_p3.shape)"
   ]
  },
  {
   "cell_type": "code",
   "execution_count": 98,
   "metadata": {
    "scrolled": true
   },
   "outputs": [],
   "source": [
    "pd.options.display.max_columns = None #So that I can display all columns"
   ]
  },
  {
   "cell_type": "code",
   "execution_count": 99,
   "metadata": {},
   "outputs": [
    {
     "data": {
      "text/html": [
       "<div>\n",
       "<style scoped>\n",
       "    .dataframe tbody tr th:only-of-type {\n",
       "        vertical-align: middle;\n",
       "    }\n",
       "\n",
       "    .dataframe tbody tr th {\n",
       "        vertical-align: top;\n",
       "    }\n",
       "\n",
       "    .dataframe thead th {\n",
       "        text-align: right;\n",
       "    }\n",
       "</style>\n",
       "<table border=\"1\" class=\"dataframe\">\n",
       "  <thead>\n",
       "    <tr style=\"text-align: right;\">\n",
       "      <th></th>\n",
       "      <th>A0</th>\n",
       "      <th>A1</th>\n",
       "      <th>A2</th>\n",
       "      <th>A3</th>\n",
       "      <th>PG1</th>\n",
       "      <th>PE1</th>\n",
       "      <th>PL1</th>\n",
       "      <th>PM1</th>\n",
       "      <th>PN1</th>\n",
       "      <th>PO1</th>\n",
       "      <th>C1</th>\n",
       "      <th>C2</th>\n",
       "      <th>D0</th>\n",
       "      <th>D1</th>\n",
       "      <th>D2</th>\n",
       "      <th>D3</th>\n",
       "      <th>D4</th>\n",
       "      <th>D5</th>\n",
       "      <th>D6</th>\n",
       "      <th>QTI</th>\n",
       "      <th>V0</th>\n",
       "      <th>V1</th>\n",
       "      <th>V10</th>\n",
       "      <th>V2</th>\n",
       "      <th>V3</th>\n",
       "      <th>V4</th>\n",
       "      <th>V5</th>\n",
       "      <th>V6</th>\n",
       "      <th>V7</th>\n",
       "      <th>V8</th>\n",
       "      <th>V9</th>\n",
       "      <th>TP</th>\n",
       "      <th>GWP</th>\n",
       "    </tr>\n",
       "  </thead>\n",
       "  <tbody>\n",
       "    <tr>\n",
       "      <th>0</th>\n",
       "      <td>West Midlands</td>\n",
       "      <td>54.0</td>\n",
       "      <td>45.0</td>\n",
       "      <td>62.0</td>\n",
       "      <td>54</td>\n",
       "      <td>2.0</td>\n",
       "      <td>1.0</td>\n",
       "      <td>M</td>\n",
       "      <td>6</td>\n",
       "      <td>9.0</td>\n",
       "      <td>Comprehensive</td>\n",
       "      <td>L</td>\n",
       "      <td>0</td>\n",
       "      <td>708.0</td>\n",
       "      <td>0.0</td>\n",
       "      <td>0.0</td>\n",
       "      <td>21.0</td>\n",
       "      <td>42.0</td>\n",
       "      <td>155.0</td>\n",
       "      <td>30</td>\n",
       "      <td>51.0</td>\n",
       "      <td>63.0</td>\n",
       "      <td>1</td>\n",
       "      <td>10.0</td>\n",
       "      <td>10.0</td>\n",
       "      <td>6345.0</td>\n",
       "      <td>250.0</td>\n",
       "      <td>0</td>\n",
       "      <td>4000.0</td>\n",
       "      <td>At Home</td>\n",
       "      <td>610</td>\n",
       "      <td>39.49</td>\n",
       "      <td>382.0</td>\n",
       "    </tr>\n",
       "    <tr>\n",
       "      <th>1</th>\n",
       "      <td>Yorks and Humbs</td>\n",
       "      <td>80.0</td>\n",
       "      <td>71.0</td>\n",
       "      <td>73.0</td>\n",
       "      <td>28</td>\n",
       "      <td>0.0</td>\n",
       "      <td>1.0</td>\n",
       "      <td>S</td>\n",
       "      <td>5</td>\n",
       "      <td>9.0</td>\n",
       "      <td>Comprehensive</td>\n",
       "      <td>NaN</td>\n",
       "      <td>0</td>\n",
       "      <td>746.0</td>\n",
       "      <td>0.0</td>\n",
       "      <td>0.0</td>\n",
       "      <td>13.0</td>\n",
       "      <td>39.0</td>\n",
       "      <td>112.0</td>\n",
       "      <td>15</td>\n",
       "      <td>41.0</td>\n",
       "      <td>21.0</td>\n",
       "      <td>1</td>\n",
       "      <td>10.0</td>\n",
       "      <td>5.0</td>\n",
       "      <td>4000.0</td>\n",
       "      <td>500.0</td>\n",
       "      <td>0</td>\n",
       "      <td>8000.0</td>\n",
       "      <td>At Home</td>\n",
       "      <td>229</td>\n",
       "      <td>229.33</td>\n",
       "      <td>1176.0</td>\n",
       "    </tr>\n",
       "    <tr>\n",
       "      <th>2</th>\n",
       "      <td>South-East England</td>\n",
       "      <td>25.0</td>\n",
       "      <td>43.0</td>\n",
       "      <td>50.0</td>\n",
       "      <td>25</td>\n",
       "      <td>0.0</td>\n",
       "      <td>1.0</td>\n",
       "      <td>S</td>\n",
       "      <td>5</td>\n",
       "      <td>9.0</td>\n",
       "      <td>Comprehensive</td>\n",
       "      <td>NaN</td>\n",
       "      <td>0</td>\n",
       "      <td>809.0</td>\n",
       "      <td>0.0</td>\n",
       "      <td>0.0</td>\n",
       "      <td>7.0</td>\n",
       "      <td>37.0</td>\n",
       "      <td>106.0</td>\n",
       "      <td>15</td>\n",
       "      <td>74.0</td>\n",
       "      <td>29.0</td>\n",
       "      <td>1</td>\n",
       "      <td>8.0</td>\n",
       "      <td>9.0</td>\n",
       "      <td>2800.0</td>\n",
       "      <td>150.0</td>\n",
       "      <td>0</td>\n",
       "      <td>8000.0</td>\n",
       "      <td>At Home</td>\n",
       "      <td>76</td>\n",
       "      <td>286.27</td>\n",
       "      <td>2152.0</td>\n",
       "    </tr>\n",
       "    <tr>\n",
       "      <th>3</th>\n",
       "      <td>Wales</td>\n",
       "      <td>51.0</td>\n",
       "      <td>56.0</td>\n",
       "      <td>63.0</td>\n",
       "      <td>26</td>\n",
       "      <td>0.0</td>\n",
       "      <td>1.0</td>\n",
       "      <td>S</td>\n",
       "      <td>4</td>\n",
       "      <td>9.0</td>\n",
       "      <td>Comprehensive</td>\n",
       "      <td>NaN</td>\n",
       "      <td>0</td>\n",
       "      <td>708.0</td>\n",
       "      <td>0.0</td>\n",
       "      <td>0.0</td>\n",
       "      <td>17.0</td>\n",
       "      <td>42.0</td>\n",
       "      <td>119.0</td>\n",
       "      <td>28</td>\n",
       "      <td>62.0</td>\n",
       "      <td>42.0</td>\n",
       "      <td>1</td>\n",
       "      <td>10.0</td>\n",
       "      <td>6.0</td>\n",
       "      <td>6700.0</td>\n",
       "      <td>250.0</td>\n",
       "      <td>0</td>\n",
       "      <td>8000.0</td>\n",
       "      <td>At Home</td>\n",
       "      <td>789</td>\n",
       "      <td>246.94</td>\n",
       "      <td>1878.0</td>\n",
       "    </tr>\n",
       "    <tr>\n",
       "      <th>4</th>\n",
       "      <td>East Anglia</td>\n",
       "      <td>21.0</td>\n",
       "      <td>20.0</td>\n",
       "      <td>34.0</td>\n",
       "      <td>82</td>\n",
       "      <td>2.0</td>\n",
       "      <td>1.0</td>\n",
       "      <td>M</td>\n",
       "      <td>2</td>\n",
       "      <td>9.0</td>\n",
       "      <td>Comprehensive</td>\n",
       "      <td>NaN</td>\n",
       "      <td>0</td>\n",
       "      <td>816.0</td>\n",
       "      <td>0.0</td>\n",
       "      <td>0.0</td>\n",
       "      <td>19.0</td>\n",
       "      <td>39.0</td>\n",
       "      <td>111.0</td>\n",
       "      <td>30</td>\n",
       "      <td>32.0</td>\n",
       "      <td>19.0</td>\n",
       "      <td>1</td>\n",
       "      <td>10.0</td>\n",
       "      <td>2.0</td>\n",
       "      <td>7795.0</td>\n",
       "      <td>0.0</td>\n",
       "      <td>0</td>\n",
       "      <td>10000.0</td>\n",
       "      <td>At Home</td>\n",
       "      <td>761</td>\n",
       "      <td>31.43</td>\n",
       "      <td>412.0</td>\n",
       "    </tr>\n",
       "    <tr>\n",
       "      <th>5</th>\n",
       "      <td>North-West England</td>\n",
       "      <td>58.0</td>\n",
       "      <td>71.0</td>\n",
       "      <td>79.0</td>\n",
       "      <td>51</td>\n",
       "      <td>2.0</td>\n",
       "      <td>1.0</td>\n",
       "      <td>S</td>\n",
       "      <td>3</td>\n",
       "      <td>9.0</td>\n",
       "      <td>Comprehensive</td>\n",
       "      <td>NaN</td>\n",
       "      <td>0</td>\n",
       "      <td>713.0</td>\n",
       "      <td>0.0</td>\n",
       "      <td>0.0</td>\n",
       "      <td>17.0</td>\n",
       "      <td>41.0</td>\n",
       "      <td>106.0</td>\n",
       "      <td>23</td>\n",
       "      <td>34.0</td>\n",
       "      <td>41.0</td>\n",
       "      <td>1</td>\n",
       "      <td>10.0</td>\n",
       "      <td>1.0</td>\n",
       "      <td>10095.0</td>\n",
       "      <td>250.0</td>\n",
       "      <td>0</td>\n",
       "      <td>8000.0</td>\n",
       "      <td>At Home</td>\n",
       "      <td>419</td>\n",
       "      <td>530.42</td>\n",
       "      <td>1828.0</td>\n",
       "    </tr>\n",
       "    <tr>\n",
       "      <th>6</th>\n",
       "      <td>East Anglia</td>\n",
       "      <td>57.0</td>\n",
       "      <td>73.0</td>\n",
       "      <td>49.0</td>\n",
       "      <td>42</td>\n",
       "      <td>2.0</td>\n",
       "      <td>1.0</td>\n",
       "      <td>M</td>\n",
       "      <td>9</td>\n",
       "      <td>9.0</td>\n",
       "      <td>Comprehensive</td>\n",
       "      <td>B</td>\n",
       "      <td>0</td>\n",
       "      <td>830.0</td>\n",
       "      <td>0.0</td>\n",
       "      <td>0.0</td>\n",
       "      <td>17.0</td>\n",
       "      <td>46.0</td>\n",
       "      <td>121.0</td>\n",
       "      <td>1</td>\n",
       "      <td>39.0</td>\n",
       "      <td>63.0</td>\n",
       "      <td>1</td>\n",
       "      <td>10.0</td>\n",
       "      <td>8.0</td>\n",
       "      <td>8650.0</td>\n",
       "      <td>250.0</td>\n",
       "      <td>0</td>\n",
       "      <td>8000.0</td>\n",
       "      <td>Garage</td>\n",
       "      <td>1584</td>\n",
       "      <td>25.92</td>\n",
       "      <td>648.0</td>\n",
       "    </tr>\n",
       "    <tr>\n",
       "      <th>7</th>\n",
       "      <td>Wales</td>\n",
       "      <td>34.0</td>\n",
       "      <td>41.0</td>\n",
       "      <td>46.0</td>\n",
       "      <td>28</td>\n",
       "      <td>0.0</td>\n",
       "      <td>1.0</td>\n",
       "      <td>S</td>\n",
       "      <td>3</td>\n",
       "      <td>9.0</td>\n",
       "      <td>Comprehensive</td>\n",
       "      <td>NaN</td>\n",
       "      <td>0</td>\n",
       "      <td>880.0</td>\n",
       "      <td>0.0</td>\n",
       "      <td>0.0</td>\n",
       "      <td>21.0</td>\n",
       "      <td>35.0</td>\n",
       "      <td>99.0</td>\n",
       "      <td>30</td>\n",
       "      <td>20.0</td>\n",
       "      <td>32.0</td>\n",
       "      <td>1</td>\n",
       "      <td>8.0</td>\n",
       "      <td>3.0</td>\n",
       "      <td>5300.0</td>\n",
       "      <td>150.0</td>\n",
       "      <td>0</td>\n",
       "      <td>9000.0</td>\n",
       "      <td>At Home</td>\n",
       "      <td>1126</td>\n",
       "      <td>255.95</td>\n",
       "      <td>1258.0</td>\n",
       "    </tr>\n",
       "    <tr>\n",
       "      <th>8</th>\n",
       "      <td>North-West England</td>\n",
       "      <td>75.0</td>\n",
       "      <td>62.0</td>\n",
       "      <td>89.0</td>\n",
       "      <td>35</td>\n",
       "      <td>1.0</td>\n",
       "      <td>1.0</td>\n",
       "      <td>M</td>\n",
       "      <td>9</td>\n",
       "      <td>9.0</td>\n",
       "      <td>Comprehensive</td>\n",
       "      <td>NaN</td>\n",
       "      <td>0</td>\n",
       "      <td>831.0</td>\n",
       "      <td>0.0</td>\n",
       "      <td>0.0</td>\n",
       "      <td>21.0</td>\n",
       "      <td>38.0</td>\n",
       "      <td>109.0</td>\n",
       "      <td>19</td>\n",
       "      <td>46.0</td>\n",
       "      <td>20.0</td>\n",
       "      <td>1</td>\n",
       "      <td>8.0</td>\n",
       "      <td>8.0</td>\n",
       "      <td>3700.0</td>\n",
       "      <td>250.0</td>\n",
       "      <td>0</td>\n",
       "      <td>7000.0</td>\n",
       "      <td>At Home</td>\n",
       "      <td>627</td>\n",
       "      <td>168.34</td>\n",
       "      <td>791.0</td>\n",
       "    </tr>\n",
       "    <tr>\n",
       "      <th>9</th>\n",
       "      <td>Yorks and Humbs</td>\n",
       "      <td>36.0</td>\n",
       "      <td>38.0</td>\n",
       "      <td>47.0</td>\n",
       "      <td>79</td>\n",
       "      <td>2.0</td>\n",
       "      <td>1.0</td>\n",
       "      <td>S</td>\n",
       "      <td>10</td>\n",
       "      <td>9.0</td>\n",
       "      <td>Comprehensive</td>\n",
       "      <td>NaN</td>\n",
       "      <td>0</td>\n",
       "      <td>843.0</td>\n",
       "      <td>0.0</td>\n",
       "      <td>0.0</td>\n",
       "      <td>21.0</td>\n",
       "      <td>38.0</td>\n",
       "      <td>99.0</td>\n",
       "      <td>30</td>\n",
       "      <td>91.0</td>\n",
       "      <td>39.0</td>\n",
       "      <td>1</td>\n",
       "      <td>8.0</td>\n",
       "      <td>12.0</td>\n",
       "      <td>2200.0</td>\n",
       "      <td>0.0</td>\n",
       "      <td>0</td>\n",
       "      <td>8000.0</td>\n",
       "      <td>At Home</td>\n",
       "      <td>3683</td>\n",
       "      <td>37.79</td>\n",
       "      <td>389.0</td>\n",
       "    </tr>\n",
       "  </tbody>\n",
       "</table>\n",
       "</div>"
      ],
      "text/plain": [
       "                   A0    A1    A2    A3  PG1  PE1  PL1 PM1  PN1  PO1  \\\n",
       "0       West Midlands  54.0  45.0  62.0   54  2.0  1.0   M    6  9.0   \n",
       "1     Yorks and Humbs  80.0  71.0  73.0   28  0.0  1.0   S    5  9.0   \n",
       "2  South-East England  25.0  43.0  50.0   25  0.0  1.0   S    5  9.0   \n",
       "3               Wales  51.0  56.0  63.0   26  0.0  1.0   S    4  9.0   \n",
       "4         East Anglia  21.0  20.0  34.0   82  2.0  1.0   M    2  9.0   \n",
       "5  North-West England  58.0  71.0  79.0   51  2.0  1.0   S    3  9.0   \n",
       "6         East Anglia  57.0  73.0  49.0   42  2.0  1.0   M    9  9.0   \n",
       "7               Wales  34.0  41.0  46.0   28  0.0  1.0   S    3  9.0   \n",
       "8  North-West England  75.0  62.0  89.0   35  1.0  1.0   M    9  9.0   \n",
       "9     Yorks and Humbs  36.0  38.0  47.0   79  2.0  1.0   S   10  9.0   \n",
       "\n",
       "              C1   C2  D0     D1   D2   D3    D4    D5     D6  QTI    V0  \\\n",
       "0  Comprehensive    L   0  708.0  0.0  0.0  21.0  42.0  155.0   30  51.0   \n",
       "1  Comprehensive  NaN   0  746.0  0.0  0.0  13.0  39.0  112.0   15  41.0   \n",
       "2  Comprehensive  NaN   0  809.0  0.0  0.0   7.0  37.0  106.0   15  74.0   \n",
       "3  Comprehensive  NaN   0  708.0  0.0  0.0  17.0  42.0  119.0   28  62.0   \n",
       "4  Comprehensive  NaN   0  816.0  0.0  0.0  19.0  39.0  111.0   30  32.0   \n",
       "5  Comprehensive  NaN   0  713.0  0.0  0.0  17.0  41.0  106.0   23  34.0   \n",
       "6  Comprehensive    B   0  830.0  0.0  0.0  17.0  46.0  121.0    1  39.0   \n",
       "7  Comprehensive  NaN   0  880.0  0.0  0.0  21.0  35.0   99.0   30  20.0   \n",
       "8  Comprehensive  NaN   0  831.0  0.0  0.0  21.0  38.0  109.0   19  46.0   \n",
       "9  Comprehensive  NaN   0  843.0  0.0  0.0  21.0  38.0   99.0   30  91.0   \n",
       "\n",
       "     V1  V10    V2    V3       V4     V5  V6       V7       V8    V9      TP  \\\n",
       "0  63.0    1  10.0  10.0   6345.0  250.0   0   4000.0  At Home   610   39.49   \n",
       "1  21.0    1  10.0   5.0   4000.0  500.0   0   8000.0  At Home   229  229.33   \n",
       "2  29.0    1   8.0   9.0   2800.0  150.0   0   8000.0  At Home    76  286.27   \n",
       "3  42.0    1  10.0   6.0   6700.0  250.0   0   8000.0  At Home   789  246.94   \n",
       "4  19.0    1  10.0   2.0   7795.0    0.0   0  10000.0  At Home   761   31.43   \n",
       "5  41.0    1  10.0   1.0  10095.0  250.0   0   8000.0  At Home   419  530.42   \n",
       "6  63.0    1  10.0   8.0   8650.0  250.0   0   8000.0   Garage  1584   25.92   \n",
       "7  32.0    1   8.0   3.0   5300.0  150.0   0   9000.0  At Home  1126  255.95   \n",
       "8  20.0    1   8.0   8.0   3700.0  250.0   0   7000.0  At Home   627  168.34   \n",
       "9  39.0    1   8.0  12.0   2200.0    0.0   0   8000.0  At Home  3683   37.79   \n",
       "\n",
       "      GWP  \n",
       "0   382.0  \n",
       "1  1176.0  \n",
       "2  2152.0  \n",
       "3  1878.0  \n",
       "4   412.0  \n",
       "5  1828.0  \n",
       "6   648.0  \n",
       "7  1258.0  \n",
       "8   791.0  \n",
       "9   389.0  "
      ]
     },
     "metadata": {},
     "output_type": "display_data"
    }
   ],
   "source": [
    "display(main_df_p3.head(10))"
   ]
  },
  {
   "cell_type": "markdown",
   "metadata": {},
   "source": [
    "## V10 and Fuels"
   ]
  },
  {
   "cell_type": "code",
   "execution_count": 100,
   "metadata": {
    "scrolled": true
   },
   "outputs": [
    {
     "data": {
      "text/html": [
       "<div>\n",
       "<style scoped>\n",
       "    .dataframe tbody tr th:only-of-type {\n",
       "        vertical-align: middle;\n",
       "    }\n",
       "\n",
       "    .dataframe tbody tr th {\n",
       "        vertical-align: top;\n",
       "    }\n",
       "\n",
       "    .dataframe thead th {\n",
       "        text-align: right;\n",
       "    }\n",
       "</style>\n",
       "<table border=\"1\" class=\"dataframe\">\n",
       "  <thead>\n",
       "    <tr style=\"text-align: right;\">\n",
       "      <th></th>\n",
       "      <th>V10</th>\n",
       "      <th>vtype</th>\n",
       "    </tr>\n",
       "  </thead>\n",
       "  <tbody>\n",
       "    <tr>\n",
       "      <th>0</th>\n",
       "      <td>1.0</td>\n",
       "      <td>Non-Electric</td>\n",
       "    </tr>\n",
       "    <tr>\n",
       "      <th>1</th>\n",
       "      <td>2.0</td>\n",
       "      <td>Electric</td>\n",
       "    </tr>\n",
       "    <tr>\n",
       "      <th>2</th>\n",
       "      <td>4.0</td>\n",
       "      <td>Others</td>\n",
       "    </tr>\n",
       "    <tr>\n",
       "      <th>3</th>\n",
       "      <td>NaN</td>\n",
       "      <td>Others</td>\n",
       "    </tr>\n",
       "    <tr>\n",
       "      <th>4</th>\n",
       "      <td>NaN</td>\n",
       "      <td>Others</td>\n",
       "    </tr>\n",
       "  </tbody>\n",
       "</table>\n",
       "</div>"
      ],
      "text/plain": [
       "   V10         vtype\n",
       "0  1.0  Non-Electric\n",
       "1  2.0      Electric\n",
       "2  4.0        Others\n",
       "3  NaN        Others\n",
       "4  NaN        Others"
      ]
     },
     "execution_count": 100,
     "metadata": {},
     "output_type": "execute_result"
    }
   ],
   "source": [
    "fuels_df = pd.read_csv('fuels_v1.csv')\n",
    "fuels_df"
   ]
  },
  {
   "cell_type": "code",
   "execution_count": 101,
   "metadata": {},
   "outputs": [
    {
     "data": {
      "text/plain": [
       "array([1, 2, 4])"
      ]
     },
     "execution_count": 101,
     "metadata": {},
     "output_type": "execute_result"
    }
   ],
   "source": [
    "main_df_p3['V10'].unique()"
   ]
  },
  {
   "cell_type": "code",
   "execution_count": 102,
   "metadata": {},
   "outputs": [],
   "source": [
    "#main_df_p3.to_csv('Main_First_Preprocessing.csv', index=False) \n",
    "#Saving the first preprocessing"
   ]
  },
  {
   "cell_type": "markdown",
   "metadata": {},
   "source": [
    "# Correlation"
   ]
  },
  {
   "cell_type": "code",
   "execution_count": 103,
   "metadata": {
    "scrolled": true
   },
   "outputs": [
    {
     "data": {
      "text/plain": [
       "(28, 28)"
      ]
     },
     "execution_count": 103,
     "metadata": {},
     "output_type": "execute_result"
    }
   ],
   "source": [
    "correlation = abs(main_df_p3.corr()).round(1) #absolute values\n",
    "correlation.shape"
   ]
  },
  {
   "cell_type": "code",
   "execution_count": 104,
   "metadata": {},
   "outputs": [
    {
     "data": {
      "text/plain": [
       "<matplotlib.axes._subplots.AxesSubplot at 0x1c1f662588>"
      ]
     },
     "execution_count": 104,
     "metadata": {},
     "output_type": "execute_result"
    },
    {
     "data": {
      "image/png": "[encoded data removed]",
      "text/plain": [
       "<Figure size 2160x648 with 2 Axes>"
      ]
     },
     "metadata": {},
     "output_type": "display_data"
    }
   ],
   "source": [
    "mask = np.triu(np.ones_like(correlation, dtype= bool))\n",
    "\n",
    "sns.set_style(style = 'white')\n",
    "f, ax = plt.subplots(figsize=(30, 9))\n",
    "plt.title('Features Correlation',fontsize = 20)\n",
    "cmap = sns.diverging_palette(10, 250, as_cmap=True)\n",
    "\n",
    "sns.heatmap(correlation, mask=mask, cmap='Greys', annot = True,\n",
    "            square=True, vmin = 0, vmax = 1,linewidths=.5, ax=ax)"
   ]
  },
  {
   "cell_type": "code",
   "execution_count": 110,
   "metadata": {},
   "outputs": [
    {
     "data": {
      "text/html": [
       "<table class=\"simpletable\">\n",
       "<caption>OLS Regression Results</caption>\n",
       "<tr>\n",
       "  <th>Dep. Variable:</th>           <td>GWP</td>       <th>  R-squared:         </th> <td>   0.855</td>\n",
       "</tr>\n",
       "<tr>\n",
       "  <th>Model:</th>                   <td>OLS</td>       <th>  Adj. R-squared:    </th> <td>   0.850</td>\n",
       "</tr>\n",
       "<tr>\n",
       "  <th>Method:</th>             <td>Least Squares</td>  <th>  F-statistic:       </th> <td>   153.7</td>\n",
       "</tr>\n",
       "<tr>\n",
       "  <th>Date:</th>             <td>Mon, 01 Mar 2021</td> <th>  Prob (F-statistic):</th> <td>2.02e-12</td>\n",
       "</tr>\n",
       "<tr>\n",
       "  <th>Time:</th>                 <td>11:34:02</td>     <th>  Log-Likelihood:    </th> <td>  26.773</td>\n",
       "</tr>\n",
       "<tr>\n",
       "  <th>No. Observations:</th>      <td>    28</td>      <th>  AIC:               </th> <td>  -49.55</td>\n",
       "</tr>\n",
       "<tr>\n",
       "  <th>Df Residuals:</th>          <td>    26</td>      <th>  BIC:               </th> <td>  -46.88</td>\n",
       "</tr>\n",
       "<tr>\n",
       "  <th>Df Model:</th>              <td>     1</td>      <th>                     </th>     <td> </td>   \n",
       "</tr>\n",
       "<tr>\n",
       "  <th>Covariance Type:</th>      <td>nonrobust</td>    <th>                     </th>     <td> </td>   \n",
       "</tr>\n",
       "</table>\n",
       "<table class=\"simpletable\">\n",
       "<tr>\n",
       "    <td></td>       <th>coef</th>     <th>std err</th>      <th>t</th>      <th>P>|t|</th>  <th>[0.025</th>    <th>0.975]</th>  \n",
       "</tr>\n",
       "<tr>\n",
       "  <th>const</th> <td>    0.0523</td> <td>    0.021</td> <td>    2.469</td> <td> 0.020</td> <td>    0.009</td> <td>    0.096</td>\n",
       "</tr>\n",
       "<tr>\n",
       "  <th>TP</th>    <td>    0.8895</td> <td>    0.072</td> <td>   12.399</td> <td> 0.000</td> <td>    0.742</td> <td>    1.037</td>\n",
       "</tr>\n",
       "</table>\n",
       "<table class=\"simpletable\">\n",
       "<tr>\n",
       "  <th>Omnibus:</th>       <td> 6.725</td> <th>  Durbin-Watson:     </th> <td>   2.119</td>\n",
       "</tr>\n",
       "<tr>\n",
       "  <th>Prob(Omnibus):</th> <td> 0.035</td> <th>  Jarque-Bera (JB):  </th> <td>   4.843</td>\n",
       "</tr>\n",
       "<tr>\n",
       "  <th>Skew:</th>          <td> 0.903</td> <th>  Prob(JB):          </th> <td>  0.0888</td>\n",
       "</tr>\n",
       "<tr>\n",
       "  <th>Kurtosis:</th>      <td> 3.944</td> <th>  Cond. No.          </th> <td>    4.03</td>\n",
       "</tr>\n",
       "</table><br/><br/>Warnings:<br/>[1] Standard Errors assume that the covariance matrix of the errors is correctly specified."
      ],
      "text/plain": [
       "<class 'statsmodels.iolib.summary.Summary'>\n",
       "\"\"\"\n",
       "                            OLS Regression Results                            \n",
       "==============================================================================\n",
       "Dep. Variable:                    GWP   R-squared:                       0.855\n",
       "Model:                            OLS   Adj. R-squared:                  0.850\n",
       "Method:                 Least Squares   F-statistic:                     153.7\n",
       "Date:                Mon, 01 Mar 2021   Prob (F-statistic):           2.02e-12\n",
       "Time:                        11:34:02   Log-Likelihood:                 26.773\n",
       "No. Observations:                  28   AIC:                            -49.55\n",
       "Df Residuals:                      26   BIC:                            -46.88\n",
       "Df Model:                           1                                         \n",
       "Covariance Type:            nonrobust                                         \n",
       "==============================================================================\n",
       "                 coef    std err          t      P>|t|      [0.025      0.975]\n",
       "------------------------------------------------------------------------------\n",
       "const          0.0523      0.021      2.469      0.020       0.009       0.096\n",
       "TP             0.8895      0.072     12.399      0.000       0.742       1.037\n",
       "==============================================================================\n",
       "Omnibus:                        6.725   Durbin-Watson:                   2.119\n",
       "Prob(Omnibus):                  0.035   Jarque-Bera (JB):                4.843\n",
       "Skew:                           0.903   Prob(JB):                       0.0888\n",
       "Kurtosis:                       3.944   Cond. No.                         4.03\n",
       "==============================================================================\n",
       "\n",
       "Warnings:\n",
       "[1] Standard Errors assume that the covariance matrix of the errors is correctly specified.\n",
       "\"\"\""
      ]
     },
     "execution_count": 110,
     "metadata": {},
     "output_type": "execute_result"
    }
   ],
   "source": [
    "tp = correlation['TP']\n",
    "gwp = correlation['GWP']\n",
    "x0 = sm.add_constant(tp)\n",
    "results = sm.OLS(gwp,x0).fit()\n",
    "results.summary()"
   ]
  },
  {
   "cell_type": "code",
   "execution_count": 111,
   "metadata": {},
   "outputs": [
    {
     "data": {
      "image/png": "[encoded data removed]",
      "text/plain": [
       "<Figure size 432x288 with 1 Axes>"
      ]
     },
     "metadata": {},
     "output_type": "display_data"
    }
   ],
   "source": [
    "sns.scatterplot(x = tp, y = gwp)\n",
    "yhat = 0.874*tp + 0.061 #From the table above provided by statsmodels\n",
    "plt.plot(tp,yhat)\n",
    "plt.show()"
   ]
  },
  {
   "cell_type": "markdown",
   "metadata": {},
   "source": [
    "As expected per the heatmap, the correlation between TP and the targets, GWP is high.\n",
    "Now, check two features that according to the heatmap have 0 correlation, as for example D0 and D1"
   ]
  },
  {
   "cell_type": "code",
   "execution_count": 112,
   "metadata": {},
   "outputs": [
    {
     "data": {
      "text/html": [
       "<table class=\"simpletable\">\n",
       "<caption>OLS Regression Results</caption>\n",
       "<tr>\n",
       "  <th>Dep. Variable:</th>           <td>D1</td>        <th>  R-squared:         </th> <td>   0.016</td>\n",
       "</tr>\n",
       "<tr>\n",
       "  <th>Model:</th>                   <td>OLS</td>       <th>  Adj. R-squared:    </th> <td>  -0.022</td>\n",
       "</tr>\n",
       "<tr>\n",
       "  <th>Method:</th>             <td>Least Squares</td>  <th>  F-statistic:       </th> <td>  0.4168</td>\n",
       "</tr>\n",
       "<tr>\n",
       "  <th>Date:</th>             <td>Mon, 01 Mar 2021</td> <th>  Prob (F-statistic):</th>  <td> 0.524</td> \n",
       "</tr>\n",
       "<tr>\n",
       "  <th>Time:</th>                 <td>11:34:56</td>     <th>  Log-Likelihood:    </th> <td>  5.4721</td>\n",
       "</tr>\n",
       "<tr>\n",
       "  <th>No. Observations:</th>      <td>    28</td>      <th>  AIC:               </th> <td>  -6.944</td>\n",
       "</tr>\n",
       "<tr>\n",
       "  <th>Df Residuals:</th>          <td>    26</td>      <th>  BIC:               </th> <td>  -4.280</td>\n",
       "</tr>\n",
       "<tr>\n",
       "  <th>Df Model:</th>              <td>     1</td>      <th>                     </th>     <td> </td>   \n",
       "</tr>\n",
       "<tr>\n",
       "  <th>Covariance Type:</th>      <td>nonrobust</td>    <th>                     </th>     <td> </td>   \n",
       "</tr>\n",
       "</table>\n",
       "<table class=\"simpletable\">\n",
       "<tr>\n",
       "    <td></td>       <th>coef</th>     <th>std err</th>      <th>t</th>      <th>P>|t|</th>  <th>[0.025</th>    <th>0.975]</th>  \n",
       "</tr>\n",
       "<tr>\n",
       "  <th>const</th> <td>    0.1212</td> <td>    0.042</td> <td>    2.867</td> <td> 0.008</td> <td>    0.034</td> <td>    0.208</td>\n",
       "</tr>\n",
       "<tr>\n",
       "  <th>x1</th>    <td>   -0.1220</td> <td>    0.189</td> <td>   -0.646</td> <td> 0.524</td> <td>   -0.510</td> <td>    0.266</td>\n",
       "</tr>\n",
       "</table>\n",
       "<table class=\"simpletable\">\n",
       "<tr>\n",
       "  <th>Omnibus:</th>       <td>43.863</td> <th>  Durbin-Watson:     </th> <td>   1.589</td>\n",
       "</tr>\n",
       "<tr>\n",
       "  <th>Prob(Omnibus):</th> <td> 0.000</td> <th>  Jarque-Bera (JB):  </th> <td> 178.820</td>\n",
       "</tr>\n",
       "<tr>\n",
       "  <th>Skew:</th>          <td> 3.077</td> <th>  Prob(JB):          </th> <td>1.48e-39</td>\n",
       "</tr>\n",
       "<tr>\n",
       "  <th>Kurtosis:</th>      <td>13.742</td> <th>  Cond. No.          </th> <td>    4.88</td>\n",
       "</tr>\n",
       "</table><br/><br/>Warnings:<br/>[1] Standard Errors assume that the covariance matrix of the errors is correctly specified."
      ],
      "text/plain": [
       "<class 'statsmodels.iolib.summary.Summary'>\n",
       "\"\"\"\n",
       "                            OLS Regression Results                            \n",
       "==============================================================================\n",
       "Dep. Variable:                     D1   R-squared:                       0.016\n",
       "Model:                            OLS   Adj. R-squared:                 -0.022\n",
       "Method:                 Least Squares   F-statistic:                    0.4168\n",
       "Date:                Mon, 01 Mar 2021   Prob (F-statistic):              0.524\n",
       "Time:                        11:34:56   Log-Likelihood:                 5.4721\n",
       "No. Observations:                  28   AIC:                            -6.944\n",
       "Df Residuals:                      26   BIC:                            -4.280\n",
       "Df Model:                           1                                         \n",
       "Covariance Type:            nonrobust                                         \n",
       "==============================================================================\n",
       "                 coef    std err          t      P>|t|      [0.025      0.975]\n",
       "------------------------------------------------------------------------------\n",
       "const          0.1212      0.042      2.867      0.008       0.034       0.208\n",
       "x1            -0.1220      0.189     -0.646      0.524      -0.510       0.266\n",
       "==============================================================================\n",
       "Omnibus:                       43.863   Durbin-Watson:                   1.589\n",
       "Prob(Omnibus):                  0.000   Jarque-Bera (JB):              178.820\n",
       "Skew:                           3.077   Prob(JB):                     1.48e-39\n",
       "Kurtosis:                      13.742   Cond. No.                         4.88\n",
       "==============================================================================\n",
       "\n",
       "Warnings:\n",
       "[1] Standard Errors assume that the covariance matrix of the errors is correctly specified.\n",
       "\"\"\""
      ]
     },
     "execution_count": 112,
     "metadata": {},
     "output_type": "execute_result"
    }
   ],
   "source": [
    "d0 = np.array(correlation['D0'])\n",
    "d1 = correlation['D1']\n",
    "x0 = sm.add_constant(d0)\n",
    "results = sm.OLS(d1,x0).fit()\n",
    "results.summary()"
   ]
  },
  {
   "cell_type": "code",
   "execution_count": 113,
   "metadata": {},
   "outputs": [
    {
     "data": {
      "image/png": "[encoded data removed]",
      "text/plain": [
       "<Figure size 432x288 with 1 Axes>"
      ]
     },
     "metadata": {},
     "output_type": "display_data"
    }
   ],
   "source": [
    "sns.scatterplot(x = d0, y = d1)\n",
    "plt.show()"
   ]
  },
  {
   "cell_type": "markdown",
   "metadata": {},
   "source": [
    "As expected per the correlation heatmap, not correlation found between d0 and d1. R-squared very low."
   ]
  },
  {
   "cell_type": "code",
   "execution_count": 114,
   "metadata": {
    "scrolled": true
   },
   "outputs": [
    {
     "data": {
      "text/plain": [
       "Text(0.5, 1.0, 'heterocedastic dataset')"
      ]
     },
     "execution_count": 114,
     "metadata": {},
     "output_type": "execute_result"
    },
    {
     "data": {
      "image/png": "[encoded data removed]",
      "text/plain": [
       "<Figure size 432x288 with 1 Axes>"
      ]
     },
     "metadata": {},
     "output_type": "display_data"
    }
   ],
   "source": [
    "sns.scatterplot(x = main_df['TP'], y = main_df['GWP'])\n",
    "plt.title('heterocedastic dataset')"
   ]
  },
  {
   "cell_type": "markdown",
   "metadata": {},
   "source": [
    "Greater variability seen as TP increases"
   ]
  },
  {
   "cell_type": "code",
   "execution_count": 115,
   "metadata": {},
   "outputs": [
    {
     "name": "stderr",
     "output_type": "stream",
     "text": [
      "/anaconda3/lib/python3.7/site-packages/ipykernel_launcher.py:1: RuntimeWarning: divide by zero encountered in log\n",
      "  \"\"\"Entry point for launching an IPython kernel.\n"
     ]
    },
    {
     "data": {
      "text/plain": [
       "<matplotlib.axes._subplots.AxesSubplot at 0x1c2374f278>"
      ]
     },
     "execution_count": 115,
     "metadata": {},
     "output_type": "execute_result"
    },
    {
     "data": {
      "image/png": "[encoded data removed]",
      "text/plain": [
       "<Figure size 432x288 with 1 Axes>"
      ]
     },
     "metadata": {},
     "output_type": "display_data"
    }
   ],
   "source": [
    "sns.scatterplot(x = np.log(main_df['TP']), y = np.log(main_df['GWP']))"
   ]
  },
  {
   "cell_type": "markdown",
   "metadata": {},
   "source": [
    "Trying to solve the heterocedasticity by taking the log of both the x and y values."
   ]
  },
  {
   "cell_type": "code",
   "execution_count": null,
   "metadata": {},
   "outputs": [],
   "source": []
  }
 ],
 "metadata": {
  "kernelspec": {
   "display_name": "Python 3",
   "language": "python",
   "name": "python3"
  },
  "language_info": {
   "codemirror_mode": {
    "name": "ipython",
    "version": 3
   },
   "file_extension": ".py",
   "mimetype": "text/x-python",
   "name": "python",
   "nbconvert_exporter": "python",
   "pygments_lexer": "ipython3",
   "version": "3.7.1"
  }
 },
 "nbformat": 4,
 "nbformat_minor": 2
}

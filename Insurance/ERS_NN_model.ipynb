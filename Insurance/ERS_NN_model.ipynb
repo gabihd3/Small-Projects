{
 "cells": [
  {
   "cell_type": "markdown",
   "metadata": {},
   "source": [
    "Using all preprocessed data, I build here a NN that aims to predict the 0s and 1s targets. It increases the logistic regression prediction score reaching above 87%"
   ]
  },
  {
   "cell_type": "code",
   "execution_count": 41,
   "metadata": {},
   "outputs": [
    {
     "name": "stdout",
     "output_type": "stream",
     "text": [
      "2.4.1\n"
     ]
    }
   ],
   "source": [
    "import tensorflow as tf\n",
    "print(tf.__version__)"
   ]
  },
  {
   "cell_type": "code",
   "execution_count": 83,
   "metadata": {},
   "outputs": [],
   "source": [
    "import pandas as pd\n",
    "from sklearn.model_selection import train_test_split\n",
    "import matplotlib.pyplot as plt\n",
    "import numpy as np"
   ]
  },
  {
   "cell_type": "code",
   "execution_count": 43,
   "metadata": {},
   "outputs": [],
   "source": [
    "import os \n",
    "path = ('/Users/gabriel/Documents/data')\n",
    "os.chdir(path)"
   ]
  },
  {
   "cell_type": "code",
   "execution_count": 44,
   "metadata": {},
   "outputs": [
    {
     "data": {
      "text/html": [
       "<div>\n",
       "<style scoped>\n",
       "    .dataframe tbody tr th:only-of-type {\n",
       "        vertical-align: middle;\n",
       "    }\n",
       "\n",
       "    .dataframe tbody tr th {\n",
       "        vertical-align: top;\n",
       "    }\n",
       "\n",
       "    .dataframe thead th {\n",
       "        text-align: right;\n",
       "    }\n",
       "</style>\n",
       "<table border=\"1\" class=\"dataframe\">\n",
       "  <thead>\n",
       "    <tr style=\"text-align: right;\">\n",
       "      <th></th>\n",
       "      <th>A0_East Anglia</th>\n",
       "      <th>A0_East Midlands</th>\n",
       "      <th>A0_Greater London</th>\n",
       "      <th>A0_Non-Mainland UK</th>\n",
       "      <th>A0_North-East England</th>\n",
       "      <th>A0_North-West England</th>\n",
       "      <th>A0_Others</th>\n",
       "      <th>A0_Scotland</th>\n",
       "      <th>A0_South-East England</th>\n",
       "      <th>A0_South-West England</th>\n",
       "      <th>...</th>\n",
       "      <th>V10</th>\n",
       "      <th>V2</th>\n",
       "      <th>V3</th>\n",
       "      <th>V4</th>\n",
       "      <th>V5</th>\n",
       "      <th>V6</th>\n",
       "      <th>V7</th>\n",
       "      <th>V9</th>\n",
       "      <th>TP</th>\n",
       "      <th>Targets</th>\n",
       "    </tr>\n",
       "  </thead>\n",
       "  <tbody>\n",
       "    <tr>\n",
       "      <th>0</th>\n",
       "      <td>0</td>\n",
       "      <td>0</td>\n",
       "      <td>0</td>\n",
       "      <td>0</td>\n",
       "      <td>0</td>\n",
       "      <td>0</td>\n",
       "      <td>0</td>\n",
       "      <td>0</td>\n",
       "      <td>0</td>\n",
       "      <td>0</td>\n",
       "      <td>...</td>\n",
       "      <td>-0.056761</td>\n",
       "      <td>0.269289</td>\n",
       "      <td>0.178104</td>\n",
       "      <td>-0.382676</td>\n",
       "      <td>0.155328</td>\n",
       "      <td>-0.032119</td>\n",
       "      <td>-0.558132</td>\n",
       "      <td>-0.308204</td>\n",
       "      <td>-0.593742</td>\n",
       "      <td>0</td>\n",
       "    </tr>\n",
       "    <tr>\n",
       "      <th>1</th>\n",
       "      <td>0</td>\n",
       "      <td>0</td>\n",
       "      <td>0</td>\n",
       "      <td>0</td>\n",
       "      <td>0</td>\n",
       "      <td>0</td>\n",
       "      <td>0</td>\n",
       "      <td>0</td>\n",
       "      <td>0</td>\n",
       "      <td>0</td>\n",
       "      <td>...</td>\n",
       "      <td>-0.056761</td>\n",
       "      <td>0.269289</td>\n",
       "      <td>-0.188684</td>\n",
       "      <td>-0.718096</td>\n",
       "      <td>1.751069</td>\n",
       "      <td>-0.032119</td>\n",
       "      <td>-0.074237</td>\n",
       "      <td>-0.731282</td>\n",
       "      <td>0.938918</td>\n",
       "      <td>1</td>\n",
       "    </tr>\n",
       "    <tr>\n",
       "      <th>2</th>\n",
       "      <td>0</td>\n",
       "      <td>0</td>\n",
       "      <td>0</td>\n",
       "      <td>0</td>\n",
       "      <td>0</td>\n",
       "      <td>0</td>\n",
       "      <td>0</td>\n",
       "      <td>0</td>\n",
       "      <td>1</td>\n",
       "      <td>0</td>\n",
       "      <td>...</td>\n",
       "      <td>-0.056761</td>\n",
       "      <td>-1.996511</td>\n",
       "      <td>0.104747</td>\n",
       "      <td>-0.889739</td>\n",
       "      <td>-0.482968</td>\n",
       "      <td>-0.032119</td>\n",
       "      <td>-0.074237</td>\n",
       "      <td>-0.901180</td>\n",
       "      <td>1.398619</td>\n",
       "      <td>1</td>\n",
       "    </tr>\n",
       "    <tr>\n",
       "      <th>3</th>\n",
       "      <td>0</td>\n",
       "      <td>0</td>\n",
       "      <td>0</td>\n",
       "      <td>0</td>\n",
       "      <td>0</td>\n",
       "      <td>0</td>\n",
       "      <td>0</td>\n",
       "      <td>0</td>\n",
       "      <td>0</td>\n",
       "      <td>0</td>\n",
       "      <td>...</td>\n",
       "      <td>-0.056761</td>\n",
       "      <td>0.269289</td>\n",
       "      <td>-0.115327</td>\n",
       "      <td>-0.331899</td>\n",
       "      <td>0.155328</td>\n",
       "      <td>-0.032119</td>\n",
       "      <td>-0.074237</td>\n",
       "      <td>-0.109436</td>\n",
       "      <td>1.081091</td>\n",
       "      <td>1</td>\n",
       "    </tr>\n",
       "    <tr>\n",
       "      <th>4</th>\n",
       "      <td>1</td>\n",
       "      <td>0</td>\n",
       "      <td>0</td>\n",
       "      <td>0</td>\n",
       "      <td>0</td>\n",
       "      <td>0</td>\n",
       "      <td>0</td>\n",
       "      <td>0</td>\n",
       "      <td>0</td>\n",
       "      <td>0</td>\n",
       "      <td>...</td>\n",
       "      <td>-0.056761</td>\n",
       "      <td>0.269289</td>\n",
       "      <td>-0.408757</td>\n",
       "      <td>-0.175274</td>\n",
       "      <td>-1.440413</td>\n",
       "      <td>-0.032119</td>\n",
       "      <td>0.167710</td>\n",
       "      <td>-0.140528</td>\n",
       "      <td>-0.658814</td>\n",
       "      <td>0</td>\n",
       "    </tr>\n",
       "  </tbody>\n",
       "</table>\n",
       "<p>5 rows × 64 columns</p>\n",
       "</div>"
      ],
      "text/plain": [
       "   A0_East Anglia  A0_East Midlands  A0_Greater London  A0_Non-Mainland UK   \\\n",
       "0               0                 0                  0                    0   \n",
       "1               0                 0                  0                    0   \n",
       "2               0                 0                  0                    0   \n",
       "3               0                 0                  0                    0   \n",
       "4               1                 0                  0                    0   \n",
       "\n",
       "   A0_North-East England  A0_North-West England  A0_Others  A0_Scotland  \\\n",
       "0                      0                      0          0            0   \n",
       "1                      0                      0          0            0   \n",
       "2                      0                      0          0            0   \n",
       "3                      0                      0          0            0   \n",
       "4                      0                      0          0            0   \n",
       "\n",
       "   A0_South-East England  A0_South-West England  ...       V10        V2  \\\n",
       "0                      0                      0  ... -0.056761  0.269289   \n",
       "1                      0                      0  ... -0.056761  0.269289   \n",
       "2                      1                      0  ... -0.056761 -1.996511   \n",
       "3                      0                      0  ... -0.056761  0.269289   \n",
       "4                      0                      0  ... -0.056761  0.269289   \n",
       "\n",
       "         V3        V4        V5        V6        V7        V9        TP  \\\n",
       "0  0.178104 -0.382676  0.155328 -0.032119 -0.558132 -0.308204 -0.593742   \n",
       "1 -0.188684 -0.718096  1.751069 -0.032119 -0.074237 -0.731282  0.938918   \n",
       "2  0.104747 -0.889739 -0.482968 -0.032119 -0.074237 -0.901180  1.398619   \n",
       "3 -0.115327 -0.331899  0.155328 -0.032119 -0.074237 -0.109436  1.081091   \n",
       "4 -0.408757 -0.175274 -1.440413 -0.032119  0.167710 -0.140528 -0.658814   \n",
       "\n",
       "   Targets  \n",
       "0        0  \n",
       "1        1  \n",
       "2        1  \n",
       "3        1  \n",
       "4        0  \n",
       "\n",
       "[5 rows x 64 columns]"
      ]
     },
     "execution_count": 44,
     "metadata": {},
     "output_type": "execute_result"
    }
   ],
   "source": [
    "df = pd.read_csv('Last_preprocessing.csv')\n",
    "df.head()"
   ]
  },
  {
   "cell_type": "code",
   "execution_count": 45,
   "metadata": {
    "scrolled": true
   },
   "outputs": [
    {
     "data": {
      "text/plain": [
       "(647206, 64)"
      ]
     },
     "execution_count": 45,
     "metadata": {},
     "output_type": "execute_result"
    }
   ],
   "source": [
    "df.shape"
   ]
  },
  {
   "cell_type": "code",
   "execution_count": 46,
   "metadata": {},
   "outputs": [
    {
     "data": {
      "text/html": [
       "<div>\n",
       "<style scoped>\n",
       "    .dataframe tbody tr th:only-of-type {\n",
       "        vertical-align: middle;\n",
       "    }\n",
       "\n",
       "    .dataframe tbody tr th {\n",
       "        vertical-align: top;\n",
       "    }\n",
       "\n",
       "    .dataframe thead th {\n",
       "        text-align: right;\n",
       "    }\n",
       "</style>\n",
       "<table border=\"1\" class=\"dataframe\">\n",
       "  <thead>\n",
       "    <tr style=\"text-align: right;\">\n",
       "      <th></th>\n",
       "      <th>A0_East Anglia</th>\n",
       "      <th>A0_East Midlands</th>\n",
       "      <th>A0_Greater London</th>\n",
       "      <th>A0_Non-Mainland UK</th>\n",
       "      <th>A0_North-East England</th>\n",
       "      <th>A0_North-West England</th>\n",
       "      <th>A0_Others</th>\n",
       "      <th>A0_Scotland</th>\n",
       "      <th>A0_South-East England</th>\n",
       "      <th>A0_South-West England</th>\n",
       "      <th>...</th>\n",
       "      <th>V1</th>\n",
       "      <th>V10</th>\n",
       "      <th>V2</th>\n",
       "      <th>V3</th>\n",
       "      <th>V4</th>\n",
       "      <th>V5</th>\n",
       "      <th>V6</th>\n",
       "      <th>V7</th>\n",
       "      <th>V9</th>\n",
       "      <th>TP</th>\n",
       "    </tr>\n",
       "  </thead>\n",
       "  <tbody>\n",
       "    <tr>\n",
       "      <th>0</th>\n",
       "      <td>0</td>\n",
       "      <td>0</td>\n",
       "      <td>0</td>\n",
       "      <td>0</td>\n",
       "      <td>0</td>\n",
       "      <td>0</td>\n",
       "      <td>0</td>\n",
       "      <td>0</td>\n",
       "      <td>0</td>\n",
       "      <td>0</td>\n",
       "      <td>...</td>\n",
       "      <td>2.091244</td>\n",
       "      <td>-0.056761</td>\n",
       "      <td>0.269289</td>\n",
       "      <td>0.178104</td>\n",
       "      <td>-0.382676</td>\n",
       "      <td>0.155328</td>\n",
       "      <td>-0.032119</td>\n",
       "      <td>-0.558132</td>\n",
       "      <td>-0.308204</td>\n",
       "      <td>-0.593742</td>\n",
       "    </tr>\n",
       "    <tr>\n",
       "      <th>1</th>\n",
       "      <td>0</td>\n",
       "      <td>0</td>\n",
       "      <td>0</td>\n",
       "      <td>0</td>\n",
       "      <td>0</td>\n",
       "      <td>0</td>\n",
       "      <td>0</td>\n",
       "      <td>0</td>\n",
       "      <td>0</td>\n",
       "      <td>0</td>\n",
       "      <td>...</td>\n",
       "      <td>-0.941047</td>\n",
       "      <td>-0.056761</td>\n",
       "      <td>0.269289</td>\n",
       "      <td>-0.188684</td>\n",
       "      <td>-0.718096</td>\n",
       "      <td>1.751069</td>\n",
       "      <td>-0.032119</td>\n",
       "      <td>-0.074237</td>\n",
       "      <td>-0.731282</td>\n",
       "      <td>0.938918</td>\n",
       "    </tr>\n",
       "    <tr>\n",
       "      <th>2</th>\n",
       "      <td>0</td>\n",
       "      <td>0</td>\n",
       "      <td>0</td>\n",
       "      <td>0</td>\n",
       "      <td>0</td>\n",
       "      <td>0</td>\n",
       "      <td>0</td>\n",
       "      <td>0</td>\n",
       "      <td>1</td>\n",
       "      <td>0</td>\n",
       "      <td>...</td>\n",
       "      <td>-0.363468</td>\n",
       "      <td>-0.056761</td>\n",
       "      <td>-1.996511</td>\n",
       "      <td>0.104747</td>\n",
       "      <td>-0.889739</td>\n",
       "      <td>-0.482968</td>\n",
       "      <td>-0.032119</td>\n",
       "      <td>-0.074237</td>\n",
       "      <td>-0.901180</td>\n",
       "      <td>1.398619</td>\n",
       "    </tr>\n",
       "    <tr>\n",
       "      <th>3</th>\n",
       "      <td>0</td>\n",
       "      <td>0</td>\n",
       "      <td>0</td>\n",
       "      <td>0</td>\n",
       "      <td>0</td>\n",
       "      <td>0</td>\n",
       "      <td>0</td>\n",
       "      <td>0</td>\n",
       "      <td>0</td>\n",
       "      <td>0</td>\n",
       "      <td>...</td>\n",
       "      <td>0.575098</td>\n",
       "      <td>-0.056761</td>\n",
       "      <td>0.269289</td>\n",
       "      <td>-0.115327</td>\n",
       "      <td>-0.331899</td>\n",
       "      <td>0.155328</td>\n",
       "      <td>-0.032119</td>\n",
       "      <td>-0.074237</td>\n",
       "      <td>-0.109436</td>\n",
       "      <td>1.081091</td>\n",
       "    </tr>\n",
       "    <tr>\n",
       "      <th>4</th>\n",
       "      <td>1</td>\n",
       "      <td>0</td>\n",
       "      <td>0</td>\n",
       "      <td>0</td>\n",
       "      <td>0</td>\n",
       "      <td>0</td>\n",
       "      <td>0</td>\n",
       "      <td>0</td>\n",
       "      <td>0</td>\n",
       "      <td>0</td>\n",
       "      <td>...</td>\n",
       "      <td>-1.085442</td>\n",
       "      <td>-0.056761</td>\n",
       "      <td>0.269289</td>\n",
       "      <td>-0.408757</td>\n",
       "      <td>-0.175274</td>\n",
       "      <td>-1.440413</td>\n",
       "      <td>-0.032119</td>\n",
       "      <td>0.167710</td>\n",
       "      <td>-0.140528</td>\n",
       "      <td>-0.658814</td>\n",
       "    </tr>\n",
       "  </tbody>\n",
       "</table>\n",
       "<p>5 rows × 63 columns</p>\n",
       "</div>"
      ],
      "text/plain": [
       "   A0_East Anglia  A0_East Midlands  A0_Greater London  A0_Non-Mainland UK   \\\n",
       "0               0                 0                  0                    0   \n",
       "1               0                 0                  0                    0   \n",
       "2               0                 0                  0                    0   \n",
       "3               0                 0                  0                    0   \n",
       "4               1                 0                  0                    0   \n",
       "\n",
       "   A0_North-East England  A0_North-West England  A0_Others  A0_Scotland  \\\n",
       "0                      0                      0          0            0   \n",
       "1                      0                      0          0            0   \n",
       "2                      0                      0          0            0   \n",
       "3                      0                      0          0            0   \n",
       "4                      0                      0          0            0   \n",
       "\n",
       "   A0_South-East England  A0_South-West England  ...        V1       V10  \\\n",
       "0                      0                      0  ...  2.091244 -0.056761   \n",
       "1                      0                      0  ... -0.941047 -0.056761   \n",
       "2                      1                      0  ... -0.363468 -0.056761   \n",
       "3                      0                      0  ...  0.575098 -0.056761   \n",
       "4                      0                      0  ... -1.085442 -0.056761   \n",
       "\n",
       "         V2        V3        V4        V5        V6        V7        V9  \\\n",
       "0  0.269289  0.178104 -0.382676  0.155328 -0.032119 -0.558132 -0.308204   \n",
       "1  0.269289 -0.188684 -0.718096  1.751069 -0.032119 -0.074237 -0.731282   \n",
       "2 -1.996511  0.104747 -0.889739 -0.482968 -0.032119 -0.074237 -0.901180   \n",
       "3  0.269289 -0.115327 -0.331899  0.155328 -0.032119 -0.074237 -0.109436   \n",
       "4  0.269289 -0.408757 -0.175274 -1.440413 -0.032119  0.167710 -0.140528   \n",
       "\n",
       "         TP  \n",
       "0 -0.593742  \n",
       "1  0.938918  \n",
       "2  1.398619  \n",
       "3  1.081091  \n",
       "4 -0.658814  \n",
       "\n",
       "[5 rows x 63 columns]"
      ]
     },
     "execution_count": 46,
     "metadata": {},
     "output_type": "execute_result"
    }
   ],
   "source": [
    "inputs = df.iloc[:,:-1]\n",
    "inputs.head()"
   ]
  },
  {
   "cell_type": "code",
   "execution_count": 47,
   "metadata": {},
   "outputs": [
    {
     "data": {
      "text/plain": [
       "2"
      ]
     },
     "execution_count": 47,
     "metadata": {},
     "output_type": "execute_result"
    }
   ],
   "source": [
    "targets = df['Targets']\n",
    "targets.nunique()"
   ]
  },
  {
   "cell_type": "markdown",
   "metadata": {},
   "source": [
    "## Spliting data into train and test to perform cross-validation. "
   ]
  },
  {
   "cell_type": "code",
   "execution_count": 48,
   "metadata": {},
   "outputs": [],
   "source": [
    "x_train,x_test,y_train,y_test = train_test_split(inputs,targets,train_size = 0.8, random_state = 20)"
   ]
  },
  {
   "cell_type": "code",
   "execution_count": 49,
   "metadata": {
    "scrolled": true
   },
   "outputs": [
    {
     "name": "stdout",
     "output_type": "stream",
     "text": [
      "(517764, 63) (517764,)\n",
      "(129442, 63) (129442,)\n"
     ]
    }
   ],
   "source": [
    "print(x_train.shape,y_train.shape)\n",
    "print(x_test.shape,y_test.shape)\n",
    "#80% of data is used for training and %20 for cross-validation"
   ]
  },
  {
   "cell_type": "code",
   "execution_count": 50,
   "metadata": {},
   "outputs": [
    {
     "data": {
      "text/plain": [
       "63"
      ]
     },
     "execution_count": 50,
     "metadata": {},
     "output_type": "execute_result"
    }
   ],
   "source": [
    "x_train.shape[1]"
   ]
  },
  {
   "cell_type": "markdown",
   "metadata": {},
   "source": [
    "# NN"
   ]
  },
  {
   "cell_type": "code",
   "execution_count": 70,
   "metadata": {},
   "outputs": [],
   "source": [
    "input_size = x_train.shape[1]\n",
    "output_size = 2 # 0 or 1\n",
    "hidden_layer = 200\n",
    "max_epoch = 6\n",
    "\n",
    "model = tf.keras.Sequential([\n",
    "    \n",
    "    tf.keras.layers.Input(shape = (input_size,)),\n",
    "    tf.keras.layers.Dense(hidden_layer, activation = 'relu'),\n",
    "    tf.keras.layers.Dense(hidden_layer, activation = 'relu'),\n",
    "    tf.keras.layers.Dense(output_size, activation = 'softmax'),\n",
    "    \n",
    "])\n"
   ]
  },
  {
   "cell_type": "code",
   "execution_count": 71,
   "metadata": {},
   "outputs": [],
   "source": [
    "model.compile(optimizer = 'adam',loss = 'sparse_categorical_crossentropy',metrics = ['accuracy'])"
   ]
  },
  {
   "cell_type": "code",
   "execution_count": 72,
   "metadata": {},
   "outputs": [
    {
     "name": "stdout",
     "output_type": "stream",
     "text": [
      "Epoch 1/6\n",
      "16181/16181 - 17s - loss: 0.3016 - accuracy: 0.8626 - val_loss: 0.2894 - val_accuracy: 0.8679\n",
      "Epoch 2/6\n",
      "16181/16181 - 17s - loss: 0.2859 - accuracy: 0.8699 - val_loss: 0.2816 - val_accuracy: 0.8719\n",
      "Epoch 3/6\n",
      "16181/16181 - 17s - loss: 0.2789 - accuracy: 0.8737 - val_loss: 0.2801 - val_accuracy: 0.8738\n",
      "Epoch 4/6\n",
      "16181/16181 - 17s - loss: 0.2742 - accuracy: 0.8760 - val_loss: 0.2784 - val_accuracy: 0.8749\n",
      "Epoch 5/6\n",
      "16181/16181 - 17s - loss: 0.2708 - accuracy: 0.8781 - val_loss: 0.2791 - val_accuracy: 0.8744\n",
      "Epoch 6/6\n",
      "16181/16181 - 17s - loss: 0.2671 - accuracy: 0.8800 - val_loss: 0.2732 - val_accuracy: 0.8768\n"
     ]
    }
   ],
   "source": [
    "r = model.fit(x_train,\n",
    "         y_train,\n",
    "         epochs = max_epoch,\n",
    "         validation_data = (x_test,y_test),\n",
    "         verbose = 2)"
   ]
  },
  {
   "cell_type": "code",
   "execution_count": 78,
   "metadata": {},
   "outputs": [
    {
     "name": "stdout",
     "output_type": "stream",
     "text": [
      "dict_keys(['loss', 'accuracy', 'val_loss', 'val_accuracy'])\n"
     ]
    }
   ],
   "source": [
    "print(r.history.keys())"
   ]
  },
  {
   "cell_type": "code",
   "execution_count": 88,
   "metadata": {
    "scrolled": false
   },
   "outputs": [
    {
     "data": {
      "text/plain": [
       "<matplotlib.legend.Legend at 0x645a9ad10>"
      ]
     },
     "execution_count": 88,
     "metadata": {},
     "output_type": "execute_result"
    },
    {
     "data": {
      "image/png": "[encoded data removed]",
      "text/plain": [
       "<Figure size 432x288 with 1 Axes>"
      ]
     },
     "metadata": {
      "needs_background": "light"
     },
     "output_type": "display_data"
    }
   ],
   "source": [
    "plt.plot(r.history['loss'], label = 'loss')\n",
    "plt.plot(r.history['val_loss'], label = 'val_loss')\n",
    "plt.title('Training efficiency')\n",
    "plt.legend()"
   ]
  },
  {
   "cell_type": "markdown",
   "metadata": {},
   "source": [
    "The lines do not converge in an ideal manner, there is room for improvement. Yet the accuracy is above 87, improving our logistic regression previously performed."
   ]
  },
  {
   "cell_type": "code",
   "execution_count": 77,
   "metadata": {
    "scrolled": false
   },
   "outputs": [
    {
     "name": "stdout",
     "output_type": "stream",
     "text": [
      "INFO:tensorflow:Assets written to: logistic_model_NN/assets\n"
     ]
    }
   ],
   "source": [
    "model.save('logistic_model_NN') #Saving the model"
   ]
  },
  {
   "cell_type": "markdown",
   "metadata": {},
   "source": [
    "I have not had the time to actual run this model on test data 1 and 2. However, after some preprocessing of the test datasets to obtain a similar dataset as the main one, we can expect a similar accuracy as the one obtained for the validation data in this case."
   ]
  },
  {
   "cell_type": "code",
   "execution_count": null,
   "metadata": {},
   "outputs": [],
   "source": []
  }
 ],
 "metadata": {
  "kernelspec": {
   "display_name": "Python [conda env:py3-TF2.0]",
   "language": "python",
   "name": "conda-env-py3-TF2.0-py"
  },
  "language_info": {
   "codemirror_mode": {
    "name": "ipython",
    "version": 3
   },
   "file_extension": ".py",
   "mimetype": "text/x-python",
   "name": "python",
   "nbconvert_exporter": "python",
   "pygments_lexer": "ipython3",
   "version": "3.7.7"
  }
 },
 "nbformat": 4,
 "nbformat_minor": 2
}
